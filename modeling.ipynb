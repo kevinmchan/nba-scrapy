{
 "cells": [
  {
   "cell_type": "markdown",
   "metadata": {},
   "source": [
    "# Predict points per minute"
   ]
  },
  {
   "cell_type": "markdown",
   "metadata": {},
   "source": [
    "## Assumptions\n",
    "- there is perfect information on which players will play in a game\n",
    "- there is perfect information on which players will start in a game"
   ]
  },
  {
   "cell_type": "code",
   "execution_count": 1,
   "metadata": {},
   "outputs": [],
   "source": [
    "%load_ext autoreload\n",
    "%autoreload 2"
   ]
  },
  {
   "cell_type": "code",
   "execution_count": 2,
   "metadata": {},
   "outputs": [],
   "source": [
    "import pandas as pd\n",
    "import numpy as np\n",
    "from functools import reduce"
   ]
  },
  {
   "cell_type": "code",
   "execution_count": 3,
   "metadata": {},
   "outputs": [],
   "source": [
    "import statsmodels.api as sm\n",
    "from statsmodels.formula.api import ols"
   ]
  },
  {
   "cell_type": "code",
   "execution_count": 137,
   "metadata": {},
   "outputs": [],
   "source": [
    "import seaborn as sns"
   ]
  },
  {
   "cell_type": "code",
   "execution_count": 4,
   "metadata": {},
   "outputs": [],
   "source": [
    "pd.options.display.max_colwidth = 999\n",
    "pd.options.display.max_rows = 99\n",
    "pd.options.display.max_columns = 999"
   ]
  },
  {
   "cell_type": "code",
   "execution_count": 5,
   "metadata": {},
   "outputs": [],
   "source": [
    "%matplotlib inline"
   ]
  },
  {
   "cell_type": "markdown",
   "metadata": {},
   "source": [
    "%aimport modeling.dataloader\n",
    "from modeling.dataloader import load_boxscore_data, load_games_data"
   ]
  },
  {
   "cell_type": "markdown",
   "metadata": {},
   "source": [
    "## Import data tables"
   ]
  },
  {
   "cell_type": "code",
   "execution_count": 6,
   "metadata": {},
   "outputs": [],
   "source": [
    "from modeling.dataloader import load_boxscore_data, load_game_data, \\\n",
    "    load_season_data, load_team_game_data, load_player_data, load_adv_boxscore_data"
   ]
  },
  {
   "cell_type": "code",
   "execution_count": 7,
   "metadata": {},
   "outputs": [
    {
     "name": "stderr",
     "output_type": "stream",
     "text": [
      "/Users/kevinchan/anaconda/envs/nba-analysis/lib/python3.6/site-packages/pyarrow/pandas_compat.py:707: FutureWarning: .labels was deprecated in version 0.24.0. Use .codes instead.\n",
      "  labels = getattr(columns, 'labels', None) or [\n",
      "/Users/kevinchan/anaconda/envs/nba-analysis/lib/python3.6/site-packages/pyarrow/pandas_compat.py:734: FutureWarning: the 'labels' keyword is deprecated, use 'codes' instead\n",
      "  return pd.MultiIndex(levels=new_levels, labels=labels, names=columns.names)\n",
      "/Users/kevinchan/anaconda/envs/nba-analysis/lib/python3.6/site-packages/pyarrow/pandas_compat.py:751: FutureWarning: .labels was deprecated in version 0.24.0. Use .codes instead.\n",
      "  labels, = index.labels\n"
     ]
    }
   ],
   "source": [
    "# load boxscores\n",
    "boxscore_data = load_boxscore_data()"
   ]
  },
  {
   "cell_type": "code",
   "execution_count": 8,
   "metadata": {},
   "outputs": [
    {
     "name": "stderr",
     "output_type": "stream",
     "text": [
      "/Users/kevinchan/anaconda/envs/nba-analysis/lib/python3.6/site-packages/pyarrow/pandas_compat.py:707: FutureWarning: .labels was deprecated in version 0.24.0. Use .codes instead.\n",
      "  labels = getattr(columns, 'labels', None) or [\n",
      "/Users/kevinchan/anaconda/envs/nba-analysis/lib/python3.6/site-packages/pyarrow/pandas_compat.py:734: FutureWarning: the 'labels' keyword is deprecated, use 'codes' instead\n",
      "  return pd.MultiIndex(levels=new_levels, labels=labels, names=columns.names)\n",
      "/Users/kevinchan/anaconda/envs/nba-analysis/lib/python3.6/site-packages/pyarrow/pandas_compat.py:751: FutureWarning: .labels was deprecated in version 0.24.0. Use .codes instead.\n",
      "  labels, = index.labels\n"
     ]
    }
   ],
   "source": [
    "# load advanced boxscores\n",
    "adv_boxscore_data = load_adv_boxscore_data()"
   ]
  },
  {
   "cell_type": "code",
   "execution_count": 9,
   "metadata": {},
   "outputs": [
    {
     "name": "stderr",
     "output_type": "stream",
     "text": [
      "/Users/kevinchan/anaconda/envs/nba-analysis/lib/python3.6/site-packages/pyarrow/pandas_compat.py:707: FutureWarning: .labels was deprecated in version 0.24.0. Use .codes instead.\n",
      "  labels = getattr(columns, 'labels', None) or [\n",
      "/Users/kevinchan/anaconda/envs/nba-analysis/lib/python3.6/site-packages/pyarrow/pandas_compat.py:734: FutureWarning: the 'labels' keyword is deprecated, use 'codes' instead\n",
      "  return pd.MultiIndex(levels=new_levels, labels=labels, names=columns.names)\n",
      "/Users/kevinchan/anaconda/envs/nba-analysis/lib/python3.6/site-packages/pyarrow/pandas_compat.py:751: FutureWarning: .labels was deprecated in version 0.24.0. Use .codes instead.\n",
      "  labels, = index.labels\n"
     ]
    }
   ],
   "source": [
    "# load games\n",
    "game_data = load_game_data()"
   ]
  },
  {
   "cell_type": "code",
   "execution_count": 10,
   "metadata": {},
   "outputs": [
    {
     "name": "stderr",
     "output_type": "stream",
     "text": [
      "/Users/kevinchan/anaconda/envs/nba-analysis/lib/python3.6/site-packages/pyarrow/pandas_compat.py:707: FutureWarning: .labels was deprecated in version 0.24.0. Use .codes instead.\n",
      "  labels = getattr(columns, 'labels', None) or [\n",
      "/Users/kevinchan/anaconda/envs/nba-analysis/lib/python3.6/site-packages/pyarrow/pandas_compat.py:734: FutureWarning: the 'labels' keyword is deprecated, use 'codes' instead\n",
      "  return pd.MultiIndex(levels=new_levels, labels=labels, names=columns.names)\n",
      "/Users/kevinchan/anaconda/envs/nba-analysis/lib/python3.6/site-packages/pyarrow/pandas_compat.py:751: FutureWarning: .labels was deprecated in version 0.24.0. Use .codes instead.\n",
      "  labels, = index.labels\n"
     ]
    }
   ],
   "source": [
    "# load team games\n",
    "team_game_data = load_team_game_data()"
   ]
  },
  {
   "cell_type": "code",
   "execution_count": 11,
   "metadata": {},
   "outputs": [
    {
     "name": "stderr",
     "output_type": "stream",
     "text": [
      "/Users/kevinchan/anaconda/envs/nba-analysis/lib/python3.6/site-packages/pyarrow/pandas_compat.py:707: FutureWarning: .labels was deprecated in version 0.24.0. Use .codes instead.\n",
      "  labels = getattr(columns, 'labels', None) or [\n",
      "/Users/kevinchan/anaconda/envs/nba-analysis/lib/python3.6/site-packages/pyarrow/pandas_compat.py:734: FutureWarning: the 'labels' keyword is deprecated, use 'codes' instead\n",
      "  return pd.MultiIndex(levels=new_levels, labels=labels, names=columns.names)\n",
      "/Users/kevinchan/anaconda/envs/nba-analysis/lib/python3.6/site-packages/pyarrow/pandas_compat.py:751: FutureWarning: .labels was deprecated in version 0.24.0. Use .codes instead.\n",
      "  labels, = index.labels\n"
     ]
    }
   ],
   "source": [
    "# load seasons\n",
    "seasons_data = load_season_data()"
   ]
  },
  {
   "cell_type": "code",
   "execution_count": 12,
   "metadata": {},
   "outputs": [
    {
     "name": "stderr",
     "output_type": "stream",
     "text": [
      "/Users/kevinchan/anaconda/envs/nba-analysis/lib/python3.6/site-packages/pyarrow/pandas_compat.py:707: FutureWarning: .labels was deprecated in version 0.24.0. Use .codes instead.\n",
      "  labels = getattr(columns, 'labels', None) or [\n",
      "/Users/kevinchan/anaconda/envs/nba-analysis/lib/python3.6/site-packages/pyarrow/pandas_compat.py:734: FutureWarning: the 'labels' keyword is deprecated, use 'codes' instead\n",
      "  return pd.MultiIndex(levels=new_levels, labels=labels, names=columns.names)\n",
      "/Users/kevinchan/anaconda/envs/nba-analysis/lib/python3.6/site-packages/pyarrow/pandas_compat.py:751: FutureWarning: .labels was deprecated in version 0.24.0. Use .codes instead.\n",
      "  labels, = index.labels\n"
     ]
    }
   ],
   "source": [
    "# load players\n",
    "players_data = load_player_data()"
   ]
  },
  {
   "cell_type": "markdown",
   "metadata": {},
   "source": [
    "## Derived data tables"
   ]
  },
  {
   "cell_type": "markdown",
   "metadata": {},
   "source": [
    "Generate table of all possible games a player could have played in.\n",
    "\n",
    "Assumption: in the case that a play changes teams, the first game that the player plays for the new team is the first time the player has become available for that team"
   ]
  },
  {
   "cell_type": "code",
   "execution_count": 13,
   "metadata": {},
   "outputs": [],
   "source": [
    "# get first and last game played by each player for each team, \n",
    "# every time the player changes teams\n",
    "first_game_with_team = (boxscore_data[[\"player_link\", \"boxscore_link\", \"team\"]]\n",
    "    .merge(game_data[[\"boxscore_link\", \"date\"]], on=\"boxscore_link\")\n",
    "    .sort_values(by=[\"player_link\", \"date\"])\n",
    "    .assign(games_with_team=lambda x: \n",
    "                x.groupby([\"player_link\", \"team\"])[\"team\"].cumcount())\n",
    "    .assign(diff_in_count=lambda x: \n",
    "                x.groupby([\"player_link\"])[\"games_with_team\"].diff().fillna(0))\n",
    "    .query(\"diff_in_count != 1\")\n",
    "    .assign(team_stint=lambda x:\n",
    "               x.groupby([\"player_link\", \"team\"])[\"boxscore_link\"].cumcount() + 1)\n",
    "    .rename(columns={\"date\": \"first_game_date\"})\n",
    "    [[\"player_link\", \"team\", \"team_stint\", \"first_game_date\"]]\n",
    ")\n",
    "\n",
    "last_game_with_team = (boxscore_data[[\"player_link\", \"boxscore_link\", \"team\"]]\n",
    "    .merge(game_data[[\"boxscore_link\", \"date\"]], on=\"boxscore_link\")\n",
    "    .sort_values(by=[\"player_link\", \"date\"])\n",
    "    .assign(games_with_team=lambda x: \n",
    "                x.groupby([\"player_link\", \"team\"])[\"team\"].cumcount())\n",
    "    .assign(diff_in_count=lambda x: \n",
    "                x.groupby([\"player_link\"])[\"games_with_team\"].diff(-1).fillna(0))\n",
    "    .query(\"diff_in_count != -1\")\n",
    "    .assign(team_stint=lambda x:\n",
    "                x.groupby([\"player_link\", \"team\"])[\"boxscore_link\"].cumcount() + 1)\n",
    "    .rename(columns={\"date\": \"last_game_date\"})\n",
    "    [[\"player_link\", \"team\", \"team_stint\", \"last_game_date\"]]\n",
    ")\n",
    "\n",
    "player_teams = first_game_with_team.merge(\n",
    "    last_game_with_team, on=[\"player_link\", \"team\", \"team_stint\"]\n",
    ")"
   ]
  },
  {
   "cell_type": "code",
   "execution_count": 14,
   "metadata": {},
   "outputs": [],
   "source": [
    "# join to all games played by every team\n",
    "# remove games that are before first game played in each stint\n",
    "player_games_data = (\n",
    "    player_teams\n",
    "    .merge(team_game_data[[\"boxscore_link\", \"team\"]], on=\"team\")\n",
    "    .merge(game_data[[\"boxscore_link\", \"date\"]], on=\"boxscore_link\")\n",
    "    .query(\"date >= first_game_date and date <= last_game_date\")\n",
    ")"
   ]
  },
  {
   "cell_type": "markdown",
   "metadata": {},
   "source": [
    "## Sort tables"
   ]
  },
  {
   "cell_type": "code",
   "execution_count": 15,
   "metadata": {},
   "outputs": [],
   "source": [
    "# sort tables along their indices\n",
    "boxscore_data = boxscore_data.sort_values(by=[\"boxscore_link\", \"player_link\"])\n",
    "game_data = game_data.sort_values(by=[\"boxscore_link\"])\n",
    "team_game_data = team_game_data.sort_values(by=[\"boxscore_link\", \"team_link\"])\n",
    "seasons_data = seasons_data.sort_values(by=[\"season_link\"])\n",
    "players_data = players_data.sort_values(by=[\"player_link\"])\n",
    "player_games_data = player_games_data.sort_values(by=[\"boxscore_link\", \"player_link\"])"
   ]
  },
  {
   "cell_type": "markdown",
   "metadata": {},
   "source": [
    "## Pre-feature generation filters"
   ]
  },
  {
   "cell_type": "code",
   "execution_count": 16,
   "metadata": {},
   "outputs": [],
   "source": [
    "# filter playoff games\n",
    "regular_season_games = game_data[\"boxscore_link\"][game_data[\"playoffs\"] == False]"
   ]
  },
  {
   "cell_type": "code",
   "execution_count": 17,
   "metadata": {},
   "outputs": [],
   "source": [
    "# filter last 5 games of season\n",
    "games_before_end_of_season = (\n",
    "    game_data\n",
    "        .merge(team_game_data, how=\"left\", on=\"boxscore_link\")\n",
    "        .assign(game_left_in_season=lambda x: \n",
    "            x.groupby(['team_link', 'season_link', 'playoffs'])['date']\n",
    "             .rank(method='dense', ascending=False)\n",
    "        )\n",
    "        .query(\"game_left_in_season > 5\")\n",
    ")"
   ]
  },
  {
   "cell_type": "code",
   "execution_count": 18,
   "metadata": {},
   "outputs": [],
   "source": [
    "# filter games before year 2000\n",
    "games_after_2000 = (\n",
    "    game_data\n",
    "        .merge(seasons_data, how=\"left\", on=\"season_link\")\n",
    "        .query(\"season >= 2000\")\n",
    "        .eval(\"boxscore_link\")\n",
    ")"
   ]
  },
  {
   "cell_type": "code",
   "execution_count": 19,
   "metadata": {},
   "outputs": [],
   "source": [
    "filtered_boxscore_data = boxscore_data[\n",
    "    boxscore_data[\"boxscore_link\"].isin(regular_season_games)\n",
    "    & boxscore_data[\"boxscore_link\"].isin(games_after_2000)\n",
    "    & boxscore_data[\"minutes\"].fillna(0).gt(0)\n",
    "]"
   ]
  },
  {
   "cell_type": "code",
   "execution_count": 20,
   "metadata": {},
   "outputs": [],
   "source": [
    "filtered_adv_boxscore_data = adv_boxscore_data[\n",
    "    adv_boxscore_data[\"boxscore_link\"].isin(regular_season_games)\n",
    "    & adv_boxscore_data[\"boxscore_link\"].isin(games_after_2000)\n",
    "    & adv_boxscore_data[\"minutes\"].fillna(0).gt(0)\n",
    "]"
   ]
  },
  {
   "cell_type": "code",
   "execution_count": 21,
   "metadata": {},
   "outputs": [],
   "source": [
    "filtered_player_games = player_games_data[\n",
    "    player_games_data[\"boxscore_link\"].isin(regular_season_games)\n",
    "    & player_games_data[\"boxscore_link\"].isin(games_after_2000)\n",
    "]"
   ]
  },
  {
   "cell_type": "markdown",
   "metadata": {},
   "source": [
    "## Generate derived features"
   ]
  },
  {
   "cell_type": "code",
   "execution_count": 22,
   "metadata": {},
   "outputs": [],
   "source": [
    "from modeling.transformations import RollingAverageStats, PerUnitStats, \\\n",
    "    Merge, SeasonGameCount, PlayerAge, GameCount"
   ]
  },
  {
   "cell_type": "code",
   "execution_count": 23,
   "metadata": {},
   "outputs": [],
   "source": [
    "# per minute stats\n",
    "boxscore_stats = [\n",
    "    'ast', 'blk', 'drb', 'fg', 'fg3', 'fg3a',\n",
    "    'fga', 'ft', 'fta', 'orb', 'pf', 'plus_minus', \n",
    "    'pts', 'stl', 'tov', 'trb'\n",
    "]\n",
    "\n",
    "adv_stats = [\n",
    "    'ast_pct', 'blk_pct', 'def_rtg', 'drb_pct', 'efg_pct',\n",
    "    'fg3a_per_fga_pct', 'fta_per_fga_pct', 'off_rtg', 'orb_pct', 'stl_pct', \n",
    "    'tov_pct', 'trb_pct', 'ts_pct', 'usg_pct', 'minutes'\n",
    "]\n",
    "\n",
    "naming_func = lambda x: f\"{x}_per_min\"\n",
    "per_min_stats = list(map(naming_func, boxscore_stats))\n",
    "per_min_boxscore_data = PerUnitStats(\n",
    "    stats=boxscore_stats,\n",
    "    dividend=\"minutes\",\n",
    "    naming_func=naming_func\n",
    ").transform(filtered_boxscore_data)"
   ]
  },
  {
   "cell_type": "code",
   "execution_count": 24,
   "metadata": {},
   "outputs": [],
   "source": [
    "# average score in last n games played\n",
    "# rolling average of stat, sorted by date, grouped by player\n",
    "# 5 games\n",
    "avg_5g_stats = RollingAverageStats(\n",
    "    stats=boxscore_stats,\n",
    "    window=5\n",
    ").transform(\n",
    "    boxscore_data=filtered_boxscore_data, \n",
    "    game_data=game_data\n",
    ")\n",
    "\n",
    "avg_5g_adv_stats = RollingAverageStats(\n",
    "    stats=adv_stats,\n",
    "    window=5\n",
    ").transform(\n",
    "    boxscore_data=filtered_adv_boxscore_data, \n",
    "    game_data=game_data\n",
    ")\n",
    "\n",
    "avg_5g_per_min_stats = RollingAverageStats(\n",
    "    stats=per_min_stats, \n",
    "    window=5\n",
    ").transform(\n",
    "    boxscore_data=per_min_boxscore_data, \n",
    "    game_data=game_data, \n",
    ")\n",
    "\n",
    "# 30 games\n",
    "avg_30g_stats = RollingAverageStats(\n",
    "    stats=boxscore_stats,\n",
    "    window=30\n",
    ").transform(\n",
    "    boxscore_data=filtered_boxscore_data, \n",
    "    game_data=game_data\n",
    ")\n",
    "\n",
    "avg_30g_adv_stats = RollingAverageStats(\n",
    "    stats=adv_stats,\n",
    "    window=30\n",
    ").transform(\n",
    "    boxscore_data=filtered_adv_boxscore_data, \n",
    "    game_data=game_data\n",
    ")\n",
    "\n",
    "avg_30g_per_min_stats = RollingAverageStats(\n",
    "    stats=per_min_stats, \n",
    "    window=30\n",
    ").transform(\n",
    "    boxscore_data=per_min_boxscore_data, \n",
    "    game_data=game_data, \n",
    ")"
   ]
  },
  {
   "cell_type": "code",
   "execution_count": 25,
   "metadata": {},
   "outputs": [],
   "source": [
    "# difference in stats over time\n",
    "# 5 days over 30 days\n",
    "avg_5_minus_30g_stats = (\n",
    "    avg_5g_stats[[\"player_link\", \"boxscore_link\"]]\n",
    "    .join(\n",
    "        (\n",
    "            avg_5g_stats[[col for col in avg_5g_stats if col not in [\"player_link\", \"boxscore_link\"]]]\n",
    "            - avg_30g_stats[[col for col in avg_30g_stats if col not in [\"player_link\", \"boxscore_link\"]]].values\n",
    "        ).rename(columns=lambda x: f\"{x}_min_30g\")\n",
    "    )\n",
    ")\n",
    "\n",
    "# 30 days over 60 days\n",
    "avg_30_minus_60g_stats = (\n",
    "    avg_30g_stats[[\"player_link\", \"boxscore_link\"]]\n",
    "    .join(\n",
    "        (\n",
    "            avg_30g_stats[[col for col in avg_30g_stats if col not in [\"player_link\", \"boxscore_link\"]]]\n",
    "            - avg_60g_stats[[col for col in avg_60g_stats if col not in [\"player_link\", \"boxscore_link\"]]].values\n",
    "        ).rename(columns=lambda x: f\"{x}_min_60g\")\n",
    "    )\n",
    ")"
   ]
  },
  {
   "cell_type": "code",
   "execution_count": 26,
   "metadata": {},
   "outputs": [],
   "source": [
    "# player's stats ~ player's average stats + change in team's other active players' stats\n",
    "player_team_game_stats = (\n",
    "    filtered_boxscore_data[[\"boxscore_link\", \"player_link\", \"team\"]]\n",
    "    .merge(game_data[[\"boxscore_link\", \"date\"]])\n",
    "    .sort_values(by=[\"player_link\", \"date\"])\n",
    "    .merge(filtered_boxscore_data.rename(columns={\"player_link\": \"teammate_player_link\"}))\n",
    "    .groupby([\"boxscore_link\", \"player_link\"])[boxscore_stats].sum()\n",
    "    .rename(columns=lambda x: f\"team_{x}\")\n",
    "    .reset_index()\n",
    ")\n",
    "\n",
    "player_avg_team_stats = RollingAverageStats(\n",
    "    stats=[col for col in player_team_game_stats \n",
    "           if col not in [\"boxscore_link\", \"player_link\"]],\n",
    "    window=30\n",
    ").transform(\n",
    "    boxscore_data=player_team_game_stats,\n",
    "    game_data=game_data\n",
    ")\n",
    "\n",
    "active_team_avg_30g_stats = (\n",
    "    filtered_boxscore_data[[\"boxscore_link\", \"player_link\", \"team\"]]\n",
    "    .merge(avg_30g_stats)\n",
    "    .pipe(lambda x: \n",
    "            x[[\"boxscore_link\", \"player_link\"]]\n",
    "            .join(\n",
    "                x.groupby([\"boxscore_link\", \"team\"])\n",
    "                [[col for col in avg_30g_stats if col not in [\"player_link\", \"boxscore_link\"]]]\n",
    "                .transform(\"sum\")\n",
    "                .rename(columns=lambda x: f\"active_team_{x}\")\n",
    "            )\n",
    "    )\n",
    ")"
   ]
  },
  {
   "cell_type": "code",
   "execution_count": 123,
   "metadata": {},
   "outputs": [],
   "source": [
    "# opponent average stat allowed in last n games, by position\n",
    "opponent_avgs_allowed = (\n",
    "    filtered_boxscore_data\n",
    "    .merge(game_data, on=[\"boxscore_link\"])\n",
    "    .merge(team_game_data[[\"boxscore_link\", \"team\"]].rename(columns={\"team\": \"opponent\"}), on=[\"boxscore_link\"])\n",
    "    .query(\"team != opponent\")\n",
    "    .groupby([\"boxscore_link\", \"opponent\", \"date\"])[boxscore_stats].sum()\n",
    "    .reset_index()\n",
    "    .sort_values(by=[\"opponent\", \"date\"])\n",
    "    .pipe(\n",
    "        lambda x:\n",
    "            x[[\"boxscore_link\", \"opponent\"]].join(\n",
    "                x.groupby([\"opponent\"])[boxscore_stats]\n",
    "                .apply(lambda x: x.shift(1).rolling(window=30, min_periods=1).mean())\n",
    "                .rename(columns=lambda x: f\"{x}_avg_30g_allowed\")\n",
    "            )\n",
    "    )\n",
    "    .merge(filtered_boxscore_data[[\"boxscore_link\", \"player_link\", \"team\"]])\n",
    "    .query(\"team != opponent\")\n",
    "    .drop(columns=[\"team\", \"opponent\"])\n",
    ")"
   ]
  },
  {
   "cell_type": "code",
   "execution_count": null,
   "metadata": {},
   "outputs": [],
   "source": [
    "# player opponent allowed stats\n",
    "(\n",
    "    filtered_boxscore_data\n",
    "    .merge(game_data, on=[\"boxscore_link\"])\n",
    "    .merge(team_game_data[[\"boxscore_link\", \"team\"]].rename(columns={\"team\": \"opponent\"}), on=[\"boxscore_link\"])\n",
    "    .query(\"team != opponent\")\n",
    "    .groupby([\"boxscore_link\", \"opponent\", \"date\"])[boxscore_stats].sum()\n",
    "    .reset_index()\n",
    "    .sort_values(by=[\"opponent\", \"date\"])\n",
    "    .pipe(\n",
    "        lambda x:\n",
    "            x[[\"boxscore_link\", \"opponent\"]].join(\n",
    "                x.groupby([\"opponent\"])[boxscore_stats]\n",
    "                .apply(lambda x: x.shift(1).rolling(window=30, min_periods=1).mean())\n",
    "                .rename(columns=lambda x: f\"{x}_avg_30g_allowed\")\n",
    "            )\n",
    "    )\n",
    "    .merge(filtered_boxscore_data[[\"boxscore_link\", \"player_link\", \"team\"]])\n",
    "    .query(\"team != opponent\")\n",
    "    .drop(columns=[\"team\", \"opponent\"])\n",
    ")"
   ]
  },
  {
   "cell_type": "code",
   "execution_count": 163,
   "metadata": {},
   "outputs": [
    {
     "data": {
      "text/html": [
       "<div>\n",
       "<style scoped>\n",
       "    .dataframe tbody tr th:only-of-type {\n",
       "        vertical-align: middle;\n",
       "    }\n",
       "\n",
       "    .dataframe tbody tr th {\n",
       "        vertical-align: top;\n",
       "    }\n",
       "\n",
       "    .dataframe thead th {\n",
       "        text-align: right;\n",
       "    }\n",
       "</style>\n",
       "<table border=\"1\" class=\"dataframe\">\n",
       "  <thead>\n",
       "    <tr style=\"text-align: right;\">\n",
       "      <th></th>\n",
       "      <th>ast</th>\n",
       "      <th>blk</th>\n",
       "      <th>boxscore</th>\n",
       "      <th>drb</th>\n",
       "      <th>fg</th>\n",
       "      <th>fg3</th>\n",
       "      <th>fg3_pct</th>\n",
       "      <th>fg3a</th>\n",
       "      <th>fg_pct</th>\n",
       "      <th>fga</th>\n",
       "      <th>ft</th>\n",
       "      <th>ft_pct</th>\n",
       "      <th>fta</th>\n",
       "      <th>boxscore_link</th>\n",
       "      <th>mp</th>\n",
       "      <th>orb</th>\n",
       "      <th>pf</th>\n",
       "      <th>player</th>\n",
       "      <th>player_link</th>\n",
       "      <th>plus_minus</th>\n",
       "      <th>pts</th>\n",
       "      <th>reason</th>\n",
       "      <th>role</th>\n",
       "      <th>stl</th>\n",
       "      <th>team</th>\n",
       "      <th>tov</th>\n",
       "      <th>trb</th>\n",
       "      <th>minutes</th>\n",
       "    </tr>\n",
       "  </thead>\n",
       "  <tbody>\n",
       "    <tr>\n",
       "      <th>407274</th>\n",
       "      <td>1.0</td>\n",
       "      <td>2.0</td>\n",
       "      <td>basic</td>\n",
       "      <td>15.0</td>\n",
       "      <td>5.0</td>\n",
       "      <td>0.0</td>\n",
       "      <td>NaN</td>\n",
       "      <td>0.0</td>\n",
       "      <td>0.714</td>\n",
       "      <td>7.0</td>\n",
       "      <td>4.0</td>\n",
       "      <td>1.000</td>\n",
       "      <td>4.0</td>\n",
       "      <td>https://www.basketball-reference.com/boxscores/200010310ATL.html</td>\n",
       "      <td>38:00</td>\n",
       "      <td>1.0</td>\n",
       "      <td>2.0</td>\n",
       "      <td>P.J. Brown</td>\n",
       "      <td>https://www.basketball-reference.com/players/b/brownpj01.html</td>\n",
       "      <td>28.0</td>\n",
       "      <td>14.0</td>\n",
       "      <td>None</td>\n",
       "      <td>starter</td>\n",
       "      <td>1.0</td>\n",
       "      <td>Charlotte Hornets</td>\n",
       "      <td>1.0</td>\n",
       "      <td>16.0</td>\n",
       "      <td>38.0</td>\n",
       "    </tr>\n",
       "    <tr>\n",
       "      <th>407311</th>\n",
       "      <td>0.0</td>\n",
       "      <td>4.0</td>\n",
       "      <td>basic</td>\n",
       "      <td>5.0</td>\n",
       "      <td>3.0</td>\n",
       "      <td>0.0</td>\n",
       "      <td>NaN</td>\n",
       "      <td>0.0</td>\n",
       "      <td>0.429</td>\n",
       "      <td>7.0</td>\n",
       "      <td>7.0</td>\n",
       "      <td>0.778</td>\n",
       "      <td>9.0</td>\n",
       "      <td>https://www.basketball-reference.com/boxscores/200010310ATL.html</td>\n",
       "      <td>31:00</td>\n",
       "      <td>1.0</td>\n",
       "      <td>5.0</td>\n",
       "      <td>Elden Campbell</td>\n",
       "      <td>https://www.basketball-reference.com/players/c/campbel01.html</td>\n",
       "      <td>21.0</td>\n",
       "      <td>13.0</td>\n",
       "      <td>None</td>\n",
       "      <td>starter</td>\n",
       "      <td>1.0</td>\n",
       "      <td>Charlotte Hornets</td>\n",
       "      <td>4.0</td>\n",
       "      <td>6.0</td>\n",
       "      <td>31.0</td>\n",
       "    </tr>\n",
       "    <tr>\n",
       "      <th>407463</th>\n",
       "      <td>3.0</td>\n",
       "      <td>0.0</td>\n",
       "      <td>basic</td>\n",
       "      <td>1.0</td>\n",
       "      <td>1.0</td>\n",
       "      <td>0.0</td>\n",
       "      <td>NaN</td>\n",
       "      <td>0.0</td>\n",
       "      <td>0.125</td>\n",
       "      <td>8.0</td>\n",
       "      <td>4.0</td>\n",
       "      <td>1.000</td>\n",
       "      <td>4.0</td>\n",
       "      <td>https://www.basketball-reference.com/boxscores/200010310ATL.html</td>\n",
       "      <td>21:00</td>\n",
       "      <td>0.0</td>\n",
       "      <td>4.0</td>\n",
       "      <td>Chris Crawford</td>\n",
       "      <td>https://www.basketball-reference.com/players/c/crawfch01.html</td>\n",
       "      <td>-31.0</td>\n",
       "      <td>6.0</td>\n",
       "      <td>None</td>\n",
       "      <td>reserve</td>\n",
       "      <td>0.0</td>\n",
       "      <td>Atlanta Hawks</td>\n",
       "      <td>1.0</td>\n",
       "      <td>1.0</td>\n",
       "      <td>21.0</td>\n",
       "    </tr>\n",
       "    <tr>\n",
       "      <th>407289</th>\n",
       "      <td>3.0</td>\n",
       "      <td>0.0</td>\n",
       "      <td>basic</td>\n",
       "      <td>5.0</td>\n",
       "      <td>7.0</td>\n",
       "      <td>2.0</td>\n",
       "      <td>1.0</td>\n",
       "      <td>2.0</td>\n",
       "      <td>0.636</td>\n",
       "      <td>11.0</td>\n",
       "      <td>4.0</td>\n",
       "      <td>0.571</td>\n",
       "      <td>7.0</td>\n",
       "      <td>https://www.basketball-reference.com/boxscores/200010310ATL.html</td>\n",
       "      <td>36:00</td>\n",
       "      <td>1.0</td>\n",
       "      <td>3.0</td>\n",
       "      <td>Baron Davis</td>\n",
       "      <td>https://www.basketball-reference.com/players/d/davisba01.html</td>\n",
       "      <td>14.0</td>\n",
       "      <td>20.0</td>\n",
       "      <td>None</td>\n",
       "      <td>starter</td>\n",
       "      <td>2.0</td>\n",
       "      <td>Charlotte Hornets</td>\n",
       "      <td>5.0</td>\n",
       "      <td>6.0</td>\n",
       "      <td>36.0</td>\n",
       "    </tr>\n",
       "    <tr>\n",
       "      <th>407335</th>\n",
       "      <td>0.0</td>\n",
       "      <td>0.0</td>\n",
       "      <td>basic</td>\n",
       "      <td>1.0</td>\n",
       "      <td>0.0</td>\n",
       "      <td>0.0</td>\n",
       "      <td>NaN</td>\n",
       "      <td>0.0</td>\n",
       "      <td>NaN</td>\n",
       "      <td>0.0</td>\n",
       "      <td>0.0</td>\n",
       "      <td>NaN</td>\n",
       "      <td>0.0</td>\n",
       "      <td>https://www.basketball-reference.com/boxscores/200010310ATL.html</td>\n",
       "      <td>6:00</td>\n",
       "      <td>0.0</td>\n",
       "      <td>0.0</td>\n",
       "      <td>Hersey Hawkins</td>\n",
       "      <td>https://www.basketball-reference.com/players/h/hawkihe01.html</td>\n",
       "      <td>-2.0</td>\n",
       "      <td>0.0</td>\n",
       "      <td>None</td>\n",
       "      <td>reserve</td>\n",
       "      <td>0.0</td>\n",
       "      <td>Charlotte Hornets</td>\n",
       "      <td>0.0</td>\n",
       "      <td>1.0</td>\n",
       "      <td>6.0</td>\n",
       "    </tr>\n",
       "  </tbody>\n",
       "</table>\n",
       "</div>"
      ],
      "text/plain": [
       "        ast  blk boxscore   drb   fg  fg3  fg3_pct  fg3a  fg_pct   fga   ft  \\\n",
       "407274  1.0  2.0    basic  15.0  5.0  0.0      NaN   0.0   0.714   7.0  4.0   \n",
       "407311  0.0  4.0    basic   5.0  3.0  0.0      NaN   0.0   0.429   7.0  7.0   \n",
       "407463  3.0  0.0    basic   1.0  1.0  0.0      NaN   0.0   0.125   8.0  4.0   \n",
       "407289  3.0  0.0    basic   5.0  7.0  2.0      1.0   2.0   0.636  11.0  4.0   \n",
       "407335  0.0  0.0    basic   1.0  0.0  0.0      NaN   0.0     NaN   0.0  0.0   \n",
       "\n",
       "        ft_pct  fta  \\\n",
       "407274   1.000  4.0   \n",
       "407311   0.778  9.0   \n",
       "407463   1.000  4.0   \n",
       "407289   0.571  7.0   \n",
       "407335     NaN  0.0   \n",
       "\n",
       "                                                           boxscore_link  \\\n",
       "407274  https://www.basketball-reference.com/boxscores/200010310ATL.html   \n",
       "407311  https://www.basketball-reference.com/boxscores/200010310ATL.html   \n",
       "407463  https://www.basketball-reference.com/boxscores/200010310ATL.html   \n",
       "407289  https://www.basketball-reference.com/boxscores/200010310ATL.html   \n",
       "407335  https://www.basketball-reference.com/boxscores/200010310ATL.html   \n",
       "\n",
       "           mp  orb   pf          player  \\\n",
       "407274  38:00  1.0  2.0      P.J. Brown   \n",
       "407311  31:00  1.0  5.0  Elden Campbell   \n",
       "407463  21:00  0.0  4.0  Chris Crawford   \n",
       "407289  36:00  1.0  3.0     Baron Davis   \n",
       "407335   6:00  0.0  0.0  Hersey Hawkins   \n",
       "\n",
       "                                                          player_link  \\\n",
       "407274  https://www.basketball-reference.com/players/b/brownpj01.html   \n",
       "407311  https://www.basketball-reference.com/players/c/campbel01.html   \n",
       "407463  https://www.basketball-reference.com/players/c/crawfch01.html   \n",
       "407289  https://www.basketball-reference.com/players/d/davisba01.html   \n",
       "407335  https://www.basketball-reference.com/players/h/hawkihe01.html   \n",
       "\n",
       "        plus_minus   pts reason     role  stl               team  tov   trb  \\\n",
       "407274        28.0  14.0   None  starter  1.0  Charlotte Hornets  1.0  16.0   \n",
       "407311        21.0  13.0   None  starter  1.0  Charlotte Hornets  4.0   6.0   \n",
       "407463       -31.0   6.0   None  reserve  0.0      Atlanta Hawks  1.0   1.0   \n",
       "407289        14.0  20.0   None  starter  2.0  Charlotte Hornets  5.0   6.0   \n",
       "407335        -2.0   0.0   None  reserve  0.0  Charlotte Hornets  0.0   1.0   \n",
       "\n",
       "        minutes  \n",
       "407274     38.0  \n",
       "407311     31.0  \n",
       "407463     21.0  \n",
       "407289     36.0  \n",
       "407335      6.0  "
      ]
     },
     "execution_count": 163,
     "metadata": {},
     "output_type": "execute_result"
    }
   ],
   "source": [
    "filtered_boxscore_data.head()"
   ]
  },
  {
   "cell_type": "code",
   "execution_count": null,
   "metadata": {},
   "outputs": [],
   "source": [
    "# count of bench games\n",
    "(\n",
    "    filtered_boxscore_data\n",
    "    .merge(game_data, on=[\"boxscore_link\"])\n",
    "    .merge(team_game_data[[\"boxscore_link\", \"team\"]].rename(columns={\"team\": \"opponent\"}), on=[\"boxscore_link\"])\n",
    "    .query(\"team != opponent\")\n",
    "    .groupby([\"boxscore_link\", \"opponent\", \"date\"])[boxscore_stats].sum()\n",
    "    .reset_index()\n",
    "    .sort_values(by=[\"opponent\", \"date\"])\n",
    "    .pipe(\n",
    "        lambda x:\n",
    "            x[[\"boxscore_link\", \"opponent\"]].join(\n",
    "                x.groupby([\"opponent\"])[boxscore_stats]\n",
    "                .apply(lambda x: x.shift(1).rolling(window=30, min_periods=1).mean())\n",
    "                .rename(columns=lambda x: f\"{x}_avg_30g_allowed\")\n",
    "            )\n",
    "    )\n",
    "    .merge(filtered_boxscore_data[[\"boxscore_link\", \"player_link\", \"team\"]])\n",
    "    .query(\"team != opponent\")\n",
    "    .drop(columns=[\"team\", \"opponent\"])\n",
    ")"
   ]
  },
  {
   "cell_type": "code",
   "execution_count": 27,
   "metadata": {},
   "outputs": [],
   "source": [
    "# opponent active players' average stats allowed in last n games, by position"
   ]
  },
  {
   "cell_type": "code",
   "execution_count": 27,
   "metadata": {},
   "outputs": [],
   "source": [
    "# time between games"
   ]
  },
  {
   "cell_type": "code",
   "execution_count": 28,
   "metadata": {},
   "outputs": [],
   "source": [
    "# number of games missed\n",
    "    # cumulative count of games played by player's team up to date\n",
    "    # cumulative count of games played by player up to date\n",
    "    # difference between"
   ]
  },
  {
   "cell_type": "code",
   "execution_count": 29,
   "metadata": {},
   "outputs": [],
   "source": [
    "# merge team-game attributes\n",
    "team_game_attributes = Merge(\n",
    "    on=[\"team\", \"boxscore_link\"],\n",
    "    how=\"left\",\n",
    "    keep=[\"player_link\", \"boxscore_link\", \"location\"]\n",
    ").transform(\n",
    "    left=filtered_boxscore_data,\n",
    "    right=team_game_data\n",
    ").pipe( # encode location var\n",
    "    lambda x: x.join(pd.get_dummies(x[\"location\"], prefix=\"location\", drop_first=True))\n",
    ").drop(\n",
    "    columns=[\"location\"]\n",
    ")"
   ]
  },
  {
   "cell_type": "code",
   "execution_count": 30,
   "metadata": {},
   "outputs": [],
   "source": [
    "# merge player attributes\n",
    "player_game_attributes = Merge(\n",
    "    on=[\"player_link\"],\n",
    "    how=\"left\",\n",
    "    keep=[\"player_link\", \"boxscore_link\", \"height\", \n",
    "          \"weight\", \"year_min\", \"pos_f\", \"pos_c\", \"pos_g\", \n",
    "          \"n_pos\", \"pos_f_scaled\", \"pos_c_scaled\", \"pos_g_scaled\"]\n",
    ").transform(\n",
    "    left=filtered_boxscore_data,\n",
    "    right=players_data\n",
    ")"
   ]
  },
  {
   "cell_type": "code",
   "execution_count": 31,
   "metadata": {},
   "outputs": [],
   "source": [
    "# count number of games played in season\n",
    "game_count = (\n",
    "    GameCount()\n",
    "    .transform(\n",
    "        boxscore_data=filtered_boxscore_data,\n",
    "        game_data=game_data\n",
    "    )\n",
    ")"
   ]
  },
  {
   "cell_type": "code",
   "execution_count": 32,
   "metadata": {},
   "outputs": [],
   "source": [
    "# count number of games played in season\n",
    "season_game_count = (\n",
    "    SeasonGameCount()\n",
    "    .transform(\n",
    "        boxscore_data=filtered_boxscore_data,\n",
    "        game_data=game_data\n",
    "    )\n",
    ")"
   ]
  },
  {
   "cell_type": "code",
   "execution_count": 33,
   "metadata": {},
   "outputs": [],
   "source": [
    "# player age\n",
    "player_age = (\n",
    "    PlayerAge()\n",
    "    .transform(\n",
    "        boxscore_data=filtered_boxscore_data,\n",
    "        game_data=game_data,\n",
    "        player_data=players_data\n",
    "    )\n",
    ")"
   ]
  },
  {
   "cell_type": "markdown",
   "metadata": {},
   "source": [
    "## Consolidate predictors and target variable"
   ]
  },
  {
   "cell_type": "code",
   "execution_count": 34,
   "metadata": {},
   "outputs": [],
   "source": [
    "target_data = filtered_boxscore_data[[\"boxscore_link\", \"player_link\", \"pts\"]]"
   ]
  },
  {
   "cell_type": "code",
   "execution_count": 146,
   "metadata": {},
   "outputs": [],
   "source": [
    "feature_data = reduce(\n",
    "    lambda left, right: pd.merge(left, right, how=\"outer\", on=[\"boxscore_link\", \"player_link\"]),\n",
    "    [\n",
    "        avg_5g_stats, avg_5g_per_min_stats, avg_5g_adv_stats, \n",
    "        avg_30g_stats, avg_30g_per_min_stats, avg_30g_adv_stats, \n",
    "        season_game_count, player_game_attributes, team_game_attributes,\n",
    "        player_age, avg_5_minus_30g_stats, game_count, \n",
    "        active_team_avg_30g_stats, player_avg_team_stats, opponent_avgs_allowed\n",
    "    ]\n",
    ")\n",
    "feature_data = (\n",
    "    feature_data\n",
    "    .eval(\"chng_active_team_pts_30g_avg = active_team_pts_prev_30g_avg - team_pts_prev_30g_avg\")\n",
    "    .eval(\"diff_avg_30g_opp_pts_allowed = pts_avg_30g_allowed - team_pts_prev_30g_avg\")\n",
    ")"
   ]
  },
  {
   "cell_type": "code",
   "execution_count": 147,
   "metadata": {},
   "outputs": [],
   "source": [
    "combined_data = target_data.merge(feature_data, how='left', on=[\"boxscore_link\", \"player_link\"])"
   ]
  },
  {
   "cell_type": "code",
   "execution_count": 148,
   "metadata": {},
   "outputs": [
    {
     "data": {
      "text/plain": [
       "(446531, 446531)"
      ]
     },
     "execution_count": 148,
     "metadata": {},
     "output_type": "execute_result"
    }
   ],
   "source": [
    "len(combined_data), len(target_data)"
   ]
  },
  {
   "cell_type": "markdown",
   "metadata": {},
   "source": [
    "## Post transformation filters"
   ]
  },
  {
   "cell_type": "code",
   "execution_count": 149,
   "metadata": {},
   "outputs": [],
   "source": [
    "filtered_combined_data = combined_data.query(\"game_count > 30\")"
   ]
  },
  {
   "cell_type": "markdown",
   "metadata": {},
   "source": [
    "## Missing value treatment"
   ]
  },
  {
   "cell_type": "code",
   "execution_count": 150,
   "metadata": {},
   "outputs": [
    {
     "data": {
      "text/plain": [
       "Index(['efg_pct_prev_5g_avg', 'fg3a_per_fga_pct_prev_5g_avg',\n",
       "       'fta_per_fga_pct_prev_5g_avg', 'tov_pct_prev_5g_avg',\n",
       "       'ts_pct_prev_5g_avg', 'ast_avg_30g_allowed', 'blk_avg_30g_allowed',\n",
       "       'drb_avg_30g_allowed', 'fg_avg_30g_allowed', 'fg3_avg_30g_allowed',\n",
       "       'fg3a_avg_30g_allowed', 'fga_avg_30g_allowed', 'ft_avg_30g_allowed',\n",
       "       'fta_avg_30g_allowed', 'orb_avg_30g_allowed', 'pf_avg_30g_allowed',\n",
       "       'plus_minus_avg_30g_allowed', 'pts_avg_30g_allowed',\n",
       "       'stl_avg_30g_allowed', 'tov_avg_30g_allowed', 'trb_avg_30g_allowed',\n",
       "       'diff_avg_30g_opp_pts_allowed'],\n",
       "      dtype='object')"
      ]
     },
     "execution_count": 150,
     "metadata": {},
     "output_type": "execute_result"
    }
   ],
   "source": [
    "# which columns have missing values\n",
    "columns_with_missing_values = (\n",
    "    filtered_combined_data.columns[filtered_combined_data.isna().any(axis=0)]\n",
    ")\n",
    "columns_with_missing_values"
   ]
  },
  {
   "cell_type": "code",
   "execution_count": 151,
   "metadata": {},
   "outputs": [
    {
     "data": {
      "text/plain": [
       "efg_pct_prev_5g_avg             255\n",
       "fg3a_per_fga_pct_prev_5g_avg    255\n",
       "fta_per_fga_pct_prev_5g_avg     255\n",
       "tov_pct_prev_5g_avg              87\n",
       "ts_pct_prev_5g_avg              141\n",
       "ast_avg_30g_allowed              68\n",
       "blk_avg_30g_allowed              68\n",
       "drb_avg_30g_allowed              68\n",
       "fg_avg_30g_allowed               68\n",
       "fg3_avg_30g_allowed              68\n",
       "fg3a_avg_30g_allowed             68\n",
       "fga_avg_30g_allowed              68\n",
       "ft_avg_30g_allowed               68\n",
       "fta_avg_30g_allowed              68\n",
       "orb_avg_30g_allowed              68\n",
       "pf_avg_30g_allowed               68\n",
       "plus_minus_avg_30g_allowed       68\n",
       "pts_avg_30g_allowed              68\n",
       "stl_avg_30g_allowed              68\n",
       "tov_avg_30g_allowed              68\n",
       "trb_avg_30g_allowed              68\n",
       "diff_avg_30g_opp_pts_allowed     68\n",
       "dtype: int64"
      ]
     },
     "execution_count": 151,
     "metadata": {},
     "output_type": "execute_result"
    }
   ],
   "source": [
    "# how many values are missing\n",
    "filtered_combined_data[columns_with_missing_values].isna().sum()"
   ]
  },
  {
   "cell_type": "code",
   "execution_count": 152,
   "metadata": {},
   "outputs": [],
   "source": [
    "# drop records with missing values: very small proportion of records\n",
    "clean_data = filtered_combined_data.dropna()"
   ]
  },
  {
   "cell_type": "markdown",
   "metadata": {},
   "source": [
    "## Split training and validation dataset"
   ]
  },
  {
   "cell_type": "code",
   "execution_count": null,
   "metadata": {},
   "outputs": [],
   "source": []
  },
  {
   "cell_type": "markdown",
   "metadata": {},
   "source": [
    "## Split into Validation and Training data"
   ]
  },
  {
   "cell_type": "code",
   "execution_count": null,
   "metadata": {},
   "outputs": [],
   "source": []
  },
  {
   "cell_type": "markdown",
   "metadata": {},
   "source": [
    "## Train model"
   ]
  },
  {
   "cell_type": "code",
   "execution_count": 135,
   "metadata": {},
   "outputs": [
    {
     "data": {
      "text/plain": [
       "['ast_avg_30g_allowed',\n",
       " 'blk_avg_30g_allowed',\n",
       " 'drb_avg_30g_allowed',\n",
       " 'fg_avg_30g_allowed',\n",
       " 'fg3_avg_30g_allowed',\n",
       " 'fg3a_avg_30g_allowed',\n",
       " 'fga_avg_30g_allowed',\n",
       " 'ft_avg_30g_allowed',\n",
       " 'fta_avg_30g_allowed',\n",
       " 'orb_avg_30g_allowed',\n",
       " 'pf_avg_30g_allowed',\n",
       " 'plus_minus_avg_30g_allowed',\n",
       " 'pts_avg_30g_allowed',\n",
       " 'stl_avg_30g_allowed',\n",
       " 'tov_avg_30g_allowed',\n",
       " 'trb_avg_30g_allowed']"
      ]
     },
     "execution_count": 135,
     "metadata": {},
     "output_type": "execute_result"
    }
   ],
   "source": [
    "list(filter(lambda x: \"allowed\" in x, clean_data.columns))"
   ]
  },
  {
   "cell_type": "markdown",
   "metadata": {},
   "source": [
    "### Candidate 0: Previous 30 game average"
   ]
  },
  {
   "cell_type": "code",
   "execution_count": 157,
   "metadata": {},
   "outputs": [
    {
     "data": {
      "text/html": [
       "<table class=\"simpletable\">\n",
       "<caption>OLS Regression Results</caption>\n",
       "<tr>\n",
       "  <th>Dep. Variable:</th>           <td>pts</td>       <th>  R-squared:         </th>  <td>   0.799</td>  \n",
       "</tr>\n",
       "<tr>\n",
       "  <th>Model:</th>                   <td>OLS</td>       <th>  Adj. R-squared:    </th>  <td>   0.799</td>  \n",
       "</tr>\n",
       "<tr>\n",
       "  <th>Method:</th>             <td>Least Squares</td>  <th>  F-statistic:       </th>  <td>1.594e+06</td> \n",
       "</tr>\n",
       "<tr>\n",
       "  <th>Date:</th>             <td>Mon, 28 Jan 2019</td> <th>  Prob (F-statistic):</th>   <td>  0.00</td>   \n",
       "</tr>\n",
       "<tr>\n",
       "  <th>Time:</th>                 <td>00:09:30</td>     <th>  Log-Likelihood:    </th> <td>-1.2719e+06</td>\n",
       "</tr>\n",
       "<tr>\n",
       "  <th>No. Observations:</th>      <td>400456</td>      <th>  AIC:               </th>  <td>2.544e+06</td> \n",
       "</tr>\n",
       "<tr>\n",
       "  <th>Df Residuals:</th>          <td>400455</td>      <th>  BIC:               </th>  <td>2.544e+06</td> \n",
       "</tr>\n",
       "<tr>\n",
       "  <th>Df Model:</th>              <td>     1</td>      <th>                     </th>      <td> </td>     \n",
       "</tr>\n",
       "<tr>\n",
       "  <th>Covariance Type:</th>      <td>nonrobust</td>    <th>                     </th>      <td> </td>     \n",
       "</tr>\n",
       "</table>\n",
       "<table class=\"simpletable\">\n",
       "<tr>\n",
       "          <td></td>            <th>coef</th>     <th>std err</th>      <th>t</th>      <th>P>|t|</th>  <th>[0.025</th>    <th>0.975]</th>  \n",
       "</tr>\n",
       "<tr>\n",
       "  <th>pts_prev_30g_avg</th> <td>    0.9858</td> <td>    0.001</td> <td> 1262.372</td> <td> 0.000</td> <td>    0.984</td> <td>    0.987</td>\n",
       "</tr>\n",
       "</table>\n",
       "<table class=\"simpletable\">\n",
       "<tr>\n",
       "  <th>Omnibus:</th>       <td>25411.606</td> <th>  Durbin-Watson:     </th> <td>   2.004</td> \n",
       "</tr>\n",
       "<tr>\n",
       "  <th>Prob(Omnibus):</th>  <td> 0.000</td>   <th>  Jarque-Bera (JB):  </th> <td>38761.634</td>\n",
       "</tr>\n",
       "<tr>\n",
       "  <th>Skew:</th>           <td> 0.532</td>   <th>  Prob(JB):          </th> <td>    0.00</td> \n",
       "</tr>\n",
       "<tr>\n",
       "  <th>Kurtosis:</th>       <td> 4.092</td>   <th>  Cond. No.          </th> <td>    1.00</td> \n",
       "</tr>\n",
       "</table><br/><br/>Warnings:<br/>[1] Standard Errors assume that the covariance matrix of the errors is correctly specified."
      ],
      "text/plain": [
       "<class 'statsmodels.iolib.summary.Summary'>\n",
       "\"\"\"\n",
       "                            OLS Regression Results                            \n",
       "==============================================================================\n",
       "Dep. Variable:                    pts   R-squared:                       0.799\n",
       "Model:                            OLS   Adj. R-squared:                  0.799\n",
       "Method:                 Least Squares   F-statistic:                 1.594e+06\n",
       "Date:                Mon, 28 Jan 2019   Prob (F-statistic):               0.00\n",
       "Time:                        00:09:30   Log-Likelihood:            -1.2719e+06\n",
       "No. Observations:              400456   AIC:                         2.544e+06\n",
       "Df Residuals:                  400455   BIC:                         2.544e+06\n",
       "Df Model:                           1                                         \n",
       "Covariance Type:            nonrobust                                         \n",
       "====================================================================================\n",
       "                       coef    std err          t      P>|t|      [0.025      0.975]\n",
       "------------------------------------------------------------------------------------\n",
       "pts_prev_30g_avg     0.9858      0.001   1262.372      0.000       0.984       0.987\n",
       "==============================================================================\n",
       "Omnibus:                    25411.606   Durbin-Watson:                   2.004\n",
       "Prob(Omnibus):                  0.000   Jarque-Bera (JB):            38761.634\n",
       "Skew:                           0.532   Prob(JB):                         0.00\n",
       "Kurtosis:                       4.092   Cond. No.                         1.00\n",
       "==============================================================================\n",
       "\n",
       "Warnings:\n",
       "[1] Standard Errors assume that the covariance matrix of the errors is correctly specified.\n",
       "\"\"\""
      ]
     },
     "execution_count": 157,
     "metadata": {},
     "output_type": "execute_result"
    }
   ],
   "source": [
    "ols(\"pts ~ pts_prev_30g_avg - 1\", data=clean_data).fit().summary()"
   ]
  },
  {
   "cell_type": "markdown",
   "metadata": {},
   "source": [
    "### Candidate 1: Linear regression ~ previous average"
   ]
  },
  {
   "cell_type": "code",
   "execution_count": 99,
   "metadata": {},
   "outputs": [
    {
     "data": {
      "text/html": [
       "<table class=\"simpletable\">\n",
       "<caption>OLS Regression Results</caption>\n",
       "<tr>\n",
       "  <th>Dep. Variable:</th>           <td>pts</td>       <th>  R-squared:         </th>  <td>   0.487</td>  \n",
       "</tr>\n",
       "<tr>\n",
       "  <th>Model:</th>                   <td>OLS</td>       <th>  Adj. R-squared:    </th>  <td>   0.487</td>  \n",
       "</tr>\n",
       "<tr>\n",
       "  <th>Method:</th>             <td>Least Squares</td>  <th>  F-statistic:       </th>  <td>3.808e+05</td> \n",
       "</tr>\n",
       "<tr>\n",
       "  <th>Date:</th>             <td>Sun, 27 Jan 2019</td> <th>  Prob (F-statistic):</th>   <td>  0.00</td>   \n",
       "</tr>\n",
       "<tr>\n",
       "  <th>Time:</th>                 <td>20:44:11</td>     <th>  Log-Likelihood:    </th> <td>-1.2718e+06</td>\n",
       "</tr>\n",
       "<tr>\n",
       "  <th>No. Observations:</th>      <td>400524</td>      <th>  AIC:               </th>  <td>2.544e+06</td> \n",
       "</tr>\n",
       "<tr>\n",
       "  <th>Df Residuals:</th>          <td>400522</td>      <th>  BIC:               </th>  <td>2.544e+06</td> \n",
       "</tr>\n",
       "<tr>\n",
       "  <th>Df Model:</th>              <td>     1</td>      <th>                     </th>      <td> </td>     \n",
       "</tr>\n",
       "<tr>\n",
       "  <th>Covariance Type:</th>      <td>nonrobust</td>    <th>                     </th>      <td> </td>     \n",
       "</tr>\n",
       "</table>\n",
       "<table class=\"simpletable\">\n",
       "<tr>\n",
       "          <td></td>            <th>coef</th>     <th>std err</th>      <th>t</th>      <th>P>|t|</th>  <th>[0.025</th>    <th>0.975]</th>  \n",
       "</tr>\n",
       "<tr>\n",
       "  <th>Intercept</th>        <td>    0.4775</td> <td>    0.018</td> <td>   26.425</td> <td> 0.000</td> <td>    0.442</td> <td>    0.513</td>\n",
       "</tr>\n",
       "<tr>\n",
       "  <th>pts_prev_30g_avg</th> <td>    0.9507</td> <td>    0.002</td> <td>  617.108</td> <td> 0.000</td> <td>    0.948</td> <td>    0.954</td>\n",
       "</tr>\n",
       "</table>\n",
       "<table class=\"simpletable\">\n",
       "<tr>\n",
       "  <th>Omnibus:</th>       <td>28091.532</td> <th>  Durbin-Watson:     </th> <td>   2.006</td> \n",
       "</tr>\n",
       "<tr>\n",
       "  <th>Prob(Omnibus):</th>  <td> 0.000</td>   <th>  Jarque-Bera (JB):  </th> <td>42334.748</td>\n",
       "</tr>\n",
       "<tr>\n",
       "  <th>Skew:</th>           <td> 0.578</td>   <th>  Prob(JB):          </th> <td>    0.00</td> \n",
       "</tr>\n",
       "<tr>\n",
       "  <th>Kurtosis:</th>       <td> 4.096</td>   <th>  Cond. No.          </th> <td>    23.3</td> \n",
       "</tr>\n",
       "</table><br/><br/>Warnings:<br/>[1] Standard Errors assume that the covariance matrix of the errors is correctly specified."
      ],
      "text/plain": [
       "<class 'statsmodels.iolib.summary.Summary'>\n",
       "\"\"\"\n",
       "                            OLS Regression Results                            \n",
       "==============================================================================\n",
       "Dep. Variable:                    pts   R-squared:                       0.487\n",
       "Model:                            OLS   Adj. R-squared:                  0.487\n",
       "Method:                 Least Squares   F-statistic:                 3.808e+05\n",
       "Date:                Sun, 27 Jan 2019   Prob (F-statistic):               0.00\n",
       "Time:                        20:44:11   Log-Likelihood:            -1.2718e+06\n",
       "No. Observations:              400524   AIC:                         2.544e+06\n",
       "Df Residuals:                  400522   BIC:                         2.544e+06\n",
       "Df Model:                           1                                         \n",
       "Covariance Type:            nonrobust                                         \n",
       "====================================================================================\n",
       "                       coef    std err          t      P>|t|      [0.025      0.975]\n",
       "------------------------------------------------------------------------------------\n",
       "Intercept            0.4775      0.018     26.425      0.000       0.442       0.513\n",
       "pts_prev_30g_avg     0.9507      0.002    617.108      0.000       0.948       0.954\n",
       "==============================================================================\n",
       "Omnibus:                    28091.532   Durbin-Watson:                   2.006\n",
       "Prob(Omnibus):                  0.000   Jarque-Bera (JB):            42334.748\n",
       "Skew:                           0.578   Prob(JB):                         0.00\n",
       "Kurtosis:                       4.096   Cond. No.                         23.3\n",
       "==============================================================================\n",
       "\n",
       "Warnings:\n",
       "[1] Standard Errors assume that the covariance matrix of the errors is correctly specified.\n",
       "\"\"\""
      ]
     },
     "execution_count": 99,
     "metadata": {},
     "output_type": "execute_result"
    }
   ],
   "source": [
    "ols(\"pts ~ pts_prev_30g_avg\", data=clean_data).fit().summary()"
   ]
  },
  {
   "cell_type": "markdown",
   "metadata": {},
   "source": [
    "### Candidate 2: Linear regression ~ previous average + change in stat"
   ]
  },
  {
   "cell_type": "code",
   "execution_count": 100,
   "metadata": {},
   "outputs": [
    {
     "data": {
      "text/html": [
       "<table class=\"simpletable\">\n",
       "<caption>OLS Regression Results</caption>\n",
       "<tr>\n",
       "  <th>Dep. Variable:</th>           <td>pts</td>       <th>  R-squared:         </th>  <td>   0.504</td>  \n",
       "</tr>\n",
       "<tr>\n",
       "  <th>Model:</th>                   <td>OLS</td>       <th>  Adj. R-squared:    </th>  <td>   0.504</td>  \n",
       "</tr>\n",
       "<tr>\n",
       "  <th>Method:</th>             <td>Least Squares</td>  <th>  F-statistic:       </th>  <td>2.032e+05</td> \n",
       "</tr>\n",
       "<tr>\n",
       "  <th>Date:</th>             <td>Sun, 27 Jan 2019</td> <th>  Prob (F-statistic):</th>   <td>  0.00</td>   \n",
       "</tr>\n",
       "<tr>\n",
       "  <th>Time:</th>                 <td>20:44:13</td>     <th>  Log-Likelihood:    </th> <td>-1.2653e+06</td>\n",
       "</tr>\n",
       "<tr>\n",
       "  <th>No. Observations:</th>      <td>400524</td>      <th>  AIC:               </th>  <td>2.531e+06</td> \n",
       "</tr>\n",
       "<tr>\n",
       "  <th>Df Residuals:</th>          <td>400521</td>      <th>  BIC:               </th>  <td>2.531e+06</td> \n",
       "</tr>\n",
       "<tr>\n",
       "  <th>Df Model:</th>              <td>     2</td>      <th>                     </th>      <td> </td>     \n",
       "</tr>\n",
       "<tr>\n",
       "  <th>Covariance Type:</th>      <td>nonrobust</td>    <th>                     </th>      <td> </td>     \n",
       "</tr>\n",
       "</table>\n",
       "<table class=\"simpletable\">\n",
       "<tr>\n",
       "             <td></td>                <th>coef</th>     <th>std err</th>      <th>t</th>      <th>P>|t|</th>  <th>[0.025</th>    <th>0.975]</th>  \n",
       "</tr>\n",
       "<tr>\n",
       "  <th>Intercept</th>               <td>    0.4458</td> <td>    0.018</td> <td>   25.069</td> <td> 0.000</td> <td>    0.411</td> <td>    0.481</td>\n",
       "</tr>\n",
       "<tr>\n",
       "  <th>pts_prev_30g_avg</th>        <td>    0.9542</td> <td>    0.002</td> <td>  629.320</td> <td> 0.000</td> <td>    0.951</td> <td>    0.957</td>\n",
       "</tr>\n",
       "<tr>\n",
       "  <th>pts_prev_5g_avg_min_30g</th> <td>    0.3711</td> <td>    0.003</td> <td>  114.383</td> <td> 0.000</td> <td>    0.365</td> <td>    0.377</td>\n",
       "</tr>\n",
       "</table>\n",
       "<table class=\"simpletable\">\n",
       "<tr>\n",
       "  <th>Omnibus:</th>       <td>28127.109</td> <th>  Durbin-Watson:     </th> <td>   2.014</td> \n",
       "</tr>\n",
       "<tr>\n",
       "  <th>Prob(Omnibus):</th>  <td> 0.000</td>   <th>  Jarque-Bera (JB):  </th> <td>43930.328</td>\n",
       "</tr>\n",
       "<tr>\n",
       "  <th>Skew:</th>           <td> 0.566</td>   <th>  Prob(JB):          </th> <td>    0.00</td> \n",
       "</tr>\n",
       "<tr>\n",
       "  <th>Kurtosis:</th>       <td> 4.163</td>   <th>  Cond. No.          </th> <td>    23.3</td> \n",
       "</tr>\n",
       "</table><br/><br/>Warnings:<br/>[1] Standard Errors assume that the covariance matrix of the errors is correctly specified."
      ],
      "text/plain": [
       "<class 'statsmodels.iolib.summary.Summary'>\n",
       "\"\"\"\n",
       "                            OLS Regression Results                            \n",
       "==============================================================================\n",
       "Dep. Variable:                    pts   R-squared:                       0.504\n",
       "Model:                            OLS   Adj. R-squared:                  0.504\n",
       "Method:                 Least Squares   F-statistic:                 2.032e+05\n",
       "Date:                Sun, 27 Jan 2019   Prob (F-statistic):               0.00\n",
       "Time:                        20:44:13   Log-Likelihood:            -1.2653e+06\n",
       "No. Observations:              400524   AIC:                         2.531e+06\n",
       "Df Residuals:                  400521   BIC:                         2.531e+06\n",
       "Df Model:                           2                                         \n",
       "Covariance Type:            nonrobust                                         \n",
       "===========================================================================================\n",
       "                              coef    std err          t      P>|t|      [0.025      0.975]\n",
       "-------------------------------------------------------------------------------------------\n",
       "Intercept                   0.4458      0.018     25.069      0.000       0.411       0.481\n",
       "pts_prev_30g_avg            0.9542      0.002    629.320      0.000       0.951       0.957\n",
       "pts_prev_5g_avg_min_30g     0.3711      0.003    114.383      0.000       0.365       0.377\n",
       "==============================================================================\n",
       "Omnibus:                    28127.109   Durbin-Watson:                   2.014\n",
       "Prob(Omnibus):                  0.000   Jarque-Bera (JB):            43930.328\n",
       "Skew:                           0.566   Prob(JB):                         0.00\n",
       "Kurtosis:                       4.163   Cond. No.                         23.3\n",
       "==============================================================================\n",
       "\n",
       "Warnings:\n",
       "[1] Standard Errors assume that the covariance matrix of the errors is correctly specified.\n",
       "\"\"\""
      ]
     },
     "execution_count": 100,
     "metadata": {},
     "output_type": "execute_result"
    }
   ],
   "source": [
    "ols(\"pts ~ pts_prev_30g_avg + pts_prev_5g_avg_min_30g\", \n",
    "    data=clean_data).fit().summary()"
   ]
  },
  {
   "cell_type": "markdown",
   "metadata": {},
   "source": [
    "### Candidate 3: Linear regression ~ previous average + recent change in stats + difference in active team stats"
   ]
  },
  {
   "cell_type": "code",
   "execution_count": 101,
   "metadata": {},
   "outputs": [
    {
     "data": {
      "text/html": [
       "<table class=\"simpletable\">\n",
       "<caption>OLS Regression Results</caption>\n",
       "<tr>\n",
       "  <th>Dep. Variable:</th>           <td>pts</td>       <th>  R-squared:         </th>  <td>   0.518</td>  \n",
       "</tr>\n",
       "<tr>\n",
       "  <th>Model:</th>                   <td>OLS</td>       <th>  Adj. R-squared:    </th>  <td>   0.518</td>  \n",
       "</tr>\n",
       "<tr>\n",
       "  <th>Method:</th>             <td>Least Squares</td>  <th>  F-statistic:       </th>  <td>1.434e+05</td> \n",
       "</tr>\n",
       "<tr>\n",
       "  <th>Date:</th>             <td>Sun, 27 Jan 2019</td> <th>  Prob (F-statistic):</th>   <td>  0.00</td>   \n",
       "</tr>\n",
       "<tr>\n",
       "  <th>Time:</th>                 <td>20:44:20</td>     <th>  Log-Likelihood:    </th> <td>-1.2595e+06</td>\n",
       "</tr>\n",
       "<tr>\n",
       "  <th>No. Observations:</th>      <td>400524</td>      <th>  AIC:               </th>  <td>2.519e+06</td> \n",
       "</tr>\n",
       "<tr>\n",
       "  <th>Df Residuals:</th>          <td>400520</td>      <th>  BIC:               </th>  <td>2.519e+06</td> \n",
       "</tr>\n",
       "<tr>\n",
       "  <th>Df Model:</th>              <td>     3</td>      <th>                     </th>      <td> </td>     \n",
       "</tr>\n",
       "<tr>\n",
       "  <th>Covariance Type:</th>      <td>nonrobust</td>    <th>                     </th>      <td> </td>     \n",
       "</tr>\n",
       "</table>\n",
       "<table class=\"simpletable\">\n",
       "<tr>\n",
       "                <td></td>                  <th>coef</th>     <th>std err</th>      <th>t</th>      <th>P>|t|</th>  <th>[0.025</th>    <th>0.975]</th>  \n",
       "</tr>\n",
       "<tr>\n",
       "  <th>Intercept</th>                    <td>    0.3578</td> <td>    0.018</td> <td>   20.392</td> <td> 0.000</td> <td>    0.323</td> <td>    0.392</td>\n",
       "</tr>\n",
       "<tr>\n",
       "  <th>pts_prev_30g_avg</th>             <td>    0.9688</td> <td>    0.002</td> <td>  645.746</td> <td> 0.000</td> <td>    0.966</td> <td>    0.972</td>\n",
       "</tr>\n",
       "<tr>\n",
       "  <th>pts_prev_5g_avg_min_30g</th>      <td>    0.3073</td> <td>    0.003</td> <td>   94.552</td> <td> 0.000</td> <td>    0.301</td> <td>    0.314</td>\n",
       "</tr>\n",
       "<tr>\n",
       "  <th>chng_active_team_pts_30g_avg</th> <td>   -0.0795</td> <td>    0.001</td> <td> -108.914</td> <td> 0.000</td> <td>   -0.081</td> <td>   -0.078</td>\n",
       "</tr>\n",
       "</table>\n",
       "<table class=\"simpletable\">\n",
       "<tr>\n",
       "  <th>Omnibus:</th>       <td>25975.761</td> <th>  Durbin-Watson:     </th> <td>   2.044</td> \n",
       "</tr>\n",
       "<tr>\n",
       "  <th>Prob(Omnibus):</th>  <td> 0.000</td>   <th>  Jarque-Bera (JB):  </th> <td>40319.357</td>\n",
       "</tr>\n",
       "<tr>\n",
       "  <th>Skew:</th>           <td> 0.535</td>   <th>  Prob(JB):          </th> <td>    0.00</td> \n",
       "</tr>\n",
       "<tr>\n",
       "  <th>Kurtosis:</th>       <td> 4.128</td>   <th>  Cond. No.          </th> <td>    25.3</td> \n",
       "</tr>\n",
       "</table><br/><br/>Warnings:<br/>[1] Standard Errors assume that the covariance matrix of the errors is correctly specified."
      ],
      "text/plain": [
       "<class 'statsmodels.iolib.summary.Summary'>\n",
       "\"\"\"\n",
       "                            OLS Regression Results                            \n",
       "==============================================================================\n",
       "Dep. Variable:                    pts   R-squared:                       0.518\n",
       "Model:                            OLS   Adj. R-squared:                  0.518\n",
       "Method:                 Least Squares   F-statistic:                 1.434e+05\n",
       "Date:                Sun, 27 Jan 2019   Prob (F-statistic):               0.00\n",
       "Time:                        20:44:20   Log-Likelihood:            -1.2595e+06\n",
       "No. Observations:              400524   AIC:                         2.519e+06\n",
       "Df Residuals:                  400520   BIC:                         2.519e+06\n",
       "Df Model:                           3                                         \n",
       "Covariance Type:            nonrobust                                         \n",
       "================================================================================================\n",
       "                                   coef    std err          t      P>|t|      [0.025      0.975]\n",
       "------------------------------------------------------------------------------------------------\n",
       "Intercept                        0.3578      0.018     20.392      0.000       0.323       0.392\n",
       "pts_prev_30g_avg                 0.9688      0.002    645.746      0.000       0.966       0.972\n",
       "pts_prev_5g_avg_min_30g          0.3073      0.003     94.552      0.000       0.301       0.314\n",
       "chng_active_team_pts_30g_avg    -0.0795      0.001   -108.914      0.000      -0.081      -0.078\n",
       "==============================================================================\n",
       "Omnibus:                    25975.761   Durbin-Watson:                   2.044\n",
       "Prob(Omnibus):                  0.000   Jarque-Bera (JB):            40319.357\n",
       "Skew:                           0.535   Prob(JB):                         0.00\n",
       "Kurtosis:                       4.128   Cond. No.                         25.3\n",
       "==============================================================================\n",
       "\n",
       "Warnings:\n",
       "[1] Standard Errors assume that the covariance matrix of the errors is correctly specified.\n",
       "\"\"\""
      ]
     },
     "execution_count": 101,
     "metadata": {},
     "output_type": "execute_result"
    }
   ],
   "source": [
    "(\n",
    "    ols(\n",
    "        formula=\"pts ~ pts_prev_30g_avg\"\n",
    "            \" + pts_prev_5g_avg_min_30g\"\n",
    "            \" + chng_active_team_pts_30g_avg\", \n",
    "        data=clean_data\n",
    "    )\n",
    "    .fit()\n",
    "    .summary()\n",
    ")"
   ]
  },
  {
   "cell_type": "markdown",
   "metadata": {},
   "source": [
    "### Candidate 4: Linear regression ~ previous average + recent change in stats + difference in active team stats + location"
   ]
  },
  {
   "cell_type": "code",
   "execution_count": 144,
   "metadata": {},
   "outputs": [
    {
     "data": {
      "text/html": [
       "<table class=\"simpletable\">\n",
       "<caption>OLS Regression Results</caption>\n",
       "<tr>\n",
       "  <th>Dep. Variable:</th>           <td>pts</td>       <th>  R-squared:         </th>  <td>   0.518</td>  \n",
       "</tr>\n",
       "<tr>\n",
       "  <th>Model:</th>                   <td>OLS</td>       <th>  Adj. R-squared:    </th>  <td>   0.518</td>  \n",
       "</tr>\n",
       "<tr>\n",
       "  <th>Method:</th>             <td>Least Squares</td>  <th>  F-statistic:       </th>  <td>1.077e+05</td> \n",
       "</tr>\n",
       "<tr>\n",
       "  <th>Date:</th>             <td>Sun, 27 Jan 2019</td> <th>  Prob (F-statistic):</th>   <td>  0.00</td>   \n",
       "</tr>\n",
       "<tr>\n",
       "  <th>Time:</th>                 <td>23:41:04</td>     <th>  Log-Likelihood:    </th> <td>-1.2591e+06</td>\n",
       "</tr>\n",
       "<tr>\n",
       "  <th>No. Observations:</th>      <td>400456</td>      <th>  AIC:               </th>  <td>2.518e+06</td> \n",
       "</tr>\n",
       "<tr>\n",
       "  <th>Df Residuals:</th>          <td>400451</td>      <th>  BIC:               </th>  <td>2.518e+06</td> \n",
       "</tr>\n",
       "<tr>\n",
       "  <th>Df Model:</th>              <td>     4</td>      <th>                     </th>      <td> </td>     \n",
       "</tr>\n",
       "<tr>\n",
       "  <th>Covariance Type:</th>      <td>nonrobust</td>    <th>                     </th>      <td> </td>     \n",
       "</tr>\n",
       "</table>\n",
       "<table class=\"simpletable\">\n",
       "<tr>\n",
       "                 <td></td>                   <th>coef</th>     <th>std err</th>      <th>t</th>      <th>P>|t|</th>  <th>[0.025</th>    <th>0.975]</th>  \n",
       "</tr>\n",
       "<tr>\n",
       "  <th>Intercept</th>                      <td>    0.3588</td> <td>    0.018</td> <td>   20.456</td> <td> 0.000</td> <td>    0.324</td> <td>    0.393</td>\n",
       "</tr>\n",
       "<tr>\n",
       "  <th>pts_prev_30g_avg</th>               <td>    0.9540</td> <td>    0.002</td> <td>  567.147</td> <td> 0.000</td> <td>    0.951</td> <td>    0.957</td>\n",
       "</tr>\n",
       "<tr>\n",
       "  <th>pts_prev_5g_avg_min_30g</th>        <td>    0.3074</td> <td>    0.003</td> <td>   94.606</td> <td> 0.000</td> <td>    0.301</td> <td>    0.314</td>\n",
       "</tr>\n",
       "<tr>\n",
       "  <th>chng_active_team_pts_30g_avg</th>   <td>   -0.0797</td> <td>    0.001</td> <td> -109.187</td> <td> 0.000</td> <td>   -0.081</td> <td>   -0.078</td>\n",
       "</tr>\n",
       "<tr>\n",
       "  <th>location_home:pts_prev_30g_avg</th> <td>    0.0295</td> <td>    0.002</td> <td>   19.477</td> <td> 0.000</td> <td>    0.026</td> <td>    0.032</td>\n",
       "</tr>\n",
       "</table>\n",
       "<table class=\"simpletable\">\n",
       "<tr>\n",
       "  <th>Omnibus:</th>       <td>25991.217</td> <th>  Durbin-Watson:     </th> <td>   2.044</td> \n",
       "</tr>\n",
       "<tr>\n",
       "  <th>Prob(Omnibus):</th>  <td> 0.000</td>   <th>  Jarque-Bera (JB):  </th> <td>40324.990</td>\n",
       "</tr>\n",
       "<tr>\n",
       "  <th>Skew:</th>           <td> 0.535</td>   <th>  Prob(JB):          </th> <td>    0.00</td> \n",
       "</tr>\n",
       "<tr>\n",
       "  <th>Kurtosis:</th>       <td> 4.127</td>   <th>  Cond. No.          </th> <td>    27.3</td> \n",
       "</tr>\n",
       "</table><br/><br/>Warnings:<br/>[1] Standard Errors assume that the covariance matrix of the errors is correctly specified."
      ],
      "text/plain": [
       "<class 'statsmodels.iolib.summary.Summary'>\n",
       "\"\"\"\n",
       "                            OLS Regression Results                            \n",
       "==============================================================================\n",
       "Dep. Variable:                    pts   R-squared:                       0.518\n",
       "Model:                            OLS   Adj. R-squared:                  0.518\n",
       "Method:                 Least Squares   F-statistic:                 1.077e+05\n",
       "Date:                Sun, 27 Jan 2019   Prob (F-statistic):               0.00\n",
       "Time:                        23:41:04   Log-Likelihood:            -1.2591e+06\n",
       "No. Observations:              400456   AIC:                         2.518e+06\n",
       "Df Residuals:                  400451   BIC:                         2.518e+06\n",
       "Df Model:                           4                                         \n",
       "Covariance Type:            nonrobust                                         \n",
       "==================================================================================================\n",
       "                                     coef    std err          t      P>|t|      [0.025      0.975]\n",
       "--------------------------------------------------------------------------------------------------\n",
       "Intercept                          0.3588      0.018     20.456      0.000       0.324       0.393\n",
       "pts_prev_30g_avg                   0.9540      0.002    567.147      0.000       0.951       0.957\n",
       "pts_prev_5g_avg_min_30g            0.3074      0.003     94.606      0.000       0.301       0.314\n",
       "chng_active_team_pts_30g_avg      -0.0797      0.001   -109.187      0.000      -0.081      -0.078\n",
       "location_home:pts_prev_30g_avg     0.0295      0.002     19.477      0.000       0.026       0.032\n",
       "==============================================================================\n",
       "Omnibus:                    25991.217   Durbin-Watson:                   2.044\n",
       "Prob(Omnibus):                  0.000   Jarque-Bera (JB):            40324.990\n",
       "Skew:                           0.535   Prob(JB):                         0.00\n",
       "Kurtosis:                       4.127   Cond. No.                         27.3\n",
       "==============================================================================\n",
       "\n",
       "Warnings:\n",
       "[1] Standard Errors assume that the covariance matrix of the errors is correctly specified.\n",
       "\"\"\""
      ]
     },
     "execution_count": 144,
     "metadata": {},
     "output_type": "execute_result"
    }
   ],
   "source": [
    "(\n",
    "    ols(\n",
    "        formula=\"pts ~ pts_prev_30g_avg\"\n",
    "            \" + pts_prev_5g_avg_min_30g\"\n",
    "            \" + chng_active_team_pts_30g_avg\"\n",
    "            \" + location_home:pts_prev_30g_avg\",\n",
    "        data=clean_data\n",
    "    )\n",
    "    .fit()\n",
    "    .summary()\n",
    ")"
   ]
  },
  {
   "cell_type": "markdown",
   "metadata": {},
   "source": [
    "### Candidate 5: Linear regression ~ previous average + recent change in stats + difference in active team stats + location + above average opponent points allowed"
   ]
  },
  {
   "cell_type": "code",
   "execution_count": 161,
   "metadata": {},
   "outputs": [
    {
     "data": {
      "text/html": [
       "<table class=\"simpletable\">\n",
       "<caption>OLS Regression Results</caption>\n",
       "<tr>\n",
       "  <th>Dep. Variable:</th>           <td>pts</td>       <th>  R-squared:         </th>  <td>   0.520</td>  \n",
       "</tr>\n",
       "<tr>\n",
       "  <th>Model:</th>                   <td>OLS</td>       <th>  Adj. R-squared:    </th>  <td>   0.520</td>  \n",
       "</tr>\n",
       "<tr>\n",
       "  <th>Method:</th>             <td>Least Squares</td>  <th>  F-statistic:       </th>  <td>8.666e+04</td> \n",
       "</tr>\n",
       "<tr>\n",
       "  <th>Date:</th>             <td>Mon, 28 Jan 2019</td> <th>  Prob (F-statistic):</th>   <td>  0.00</td>   \n",
       "</tr>\n",
       "<tr>\n",
       "  <th>Time:</th>                 <td>00:12:01</td>     <th>  Log-Likelihood:    </th> <td>-1.2585e+06</td>\n",
       "</tr>\n",
       "<tr>\n",
       "  <th>No. Observations:</th>      <td>400456</td>      <th>  AIC:               </th>  <td>2.517e+06</td> \n",
       "</tr>\n",
       "<tr>\n",
       "  <th>Df Residuals:</th>          <td>400450</td>      <th>  BIC:               </th>  <td>2.517e+06</td> \n",
       "</tr>\n",
       "<tr>\n",
       "  <th>Df Model:</th>              <td>     5</td>      <th>                     </th>      <td> </td>     \n",
       "</tr>\n",
       "<tr>\n",
       "  <th>Covariance Type:</th>      <td>nonrobust</td>    <th>                     </th>      <td> </td>     \n",
       "</tr>\n",
       "</table>\n",
       "<table class=\"simpletable\">\n",
       "<tr>\n",
       "                 <td></td>                   <th>coef</th>     <th>std err</th>      <th>t</th>      <th>P>|t|</th>  <th>[0.025</th>    <th>0.975]</th>  \n",
       "</tr>\n",
       "<tr>\n",
       "  <th>Intercept</th>                      <td>    0.3149</td> <td>    0.018</td> <td>   17.930</td> <td> 0.000</td> <td>    0.280</td> <td>    0.349</td>\n",
       "</tr>\n",
       "<tr>\n",
       "  <th>pts_prev_30g_avg</th>               <td>    0.9585</td> <td>    0.002</td> <td>  568.848</td> <td> 0.000</td> <td>    0.955</td> <td>    0.962</td>\n",
       "</tr>\n",
       "<tr>\n",
       "  <th>pts_prev_5g_avg_min_30g</th>        <td>    0.3080</td> <td>    0.003</td> <td>   94.934</td> <td> 0.000</td> <td>    0.302</td> <td>    0.314</td>\n",
       "</tr>\n",
       "<tr>\n",
       "  <th>chng_active_team_pts_30g_avg</th>   <td>   -0.0804</td> <td>    0.001</td> <td> -110.204</td> <td> 0.000</td> <td>   -0.082</td> <td>   -0.079</td>\n",
       "</tr>\n",
       "<tr>\n",
       "  <th>location_home:pts_prev_30g_avg</th> <td>    0.0294</td> <td>    0.002</td> <td>   19.433</td> <td> 0.000</td> <td>    0.026</td> <td>    0.032</td>\n",
       "</tr>\n",
       "<tr>\n",
       "  <th>diff_avg_30g_opp_pts_allowed</th>   <td>    0.0470</td> <td>    0.001</td> <td>   33.795</td> <td> 0.000</td> <td>    0.044</td> <td>    0.050</td>\n",
       "</tr>\n",
       "</table>\n",
       "<table class=\"simpletable\">\n",
       "<tr>\n",
       "  <th>Omnibus:</th>       <td>25773.902</td> <th>  Durbin-Watson:     </th> <td>   2.046</td> \n",
       "</tr>\n",
       "<tr>\n",
       "  <th>Prob(Omnibus):</th>  <td> 0.000</td>   <th>  Jarque-Bera (JB):  </th> <td>40019.176</td>\n",
       "</tr>\n",
       "<tr>\n",
       "  <th>Skew:</th>           <td> 0.532</td>   <th>  Prob(JB):          </th> <td>    0.00</td> \n",
       "</tr>\n",
       "<tr>\n",
       "  <th>Kurtosis:</th>       <td> 4.126</td>   <th>  Cond. No.          </th> <td>    27.3</td> \n",
       "</tr>\n",
       "</table><br/><br/>Warnings:<br/>[1] Standard Errors assume that the covariance matrix of the errors is correctly specified."
      ],
      "text/plain": [
       "<class 'statsmodels.iolib.summary.Summary'>\n",
       "\"\"\"\n",
       "                            OLS Regression Results                            \n",
       "==============================================================================\n",
       "Dep. Variable:                    pts   R-squared:                       0.520\n",
       "Model:                            OLS   Adj. R-squared:                  0.520\n",
       "Method:                 Least Squares   F-statistic:                 8.666e+04\n",
       "Date:                Mon, 28 Jan 2019   Prob (F-statistic):               0.00\n",
       "Time:                        00:12:01   Log-Likelihood:            -1.2585e+06\n",
       "No. Observations:              400456   AIC:                         2.517e+06\n",
       "Df Residuals:                  400450   BIC:                         2.517e+06\n",
       "Df Model:                           5                                         \n",
       "Covariance Type:            nonrobust                                         \n",
       "==================================================================================================\n",
       "                                     coef    std err          t      P>|t|      [0.025      0.975]\n",
       "--------------------------------------------------------------------------------------------------\n",
       "Intercept                          0.3149      0.018     17.930      0.000       0.280       0.349\n",
       "pts_prev_30g_avg                   0.9585      0.002    568.848      0.000       0.955       0.962\n",
       "pts_prev_5g_avg_min_30g            0.3080      0.003     94.934      0.000       0.302       0.314\n",
       "chng_active_team_pts_30g_avg      -0.0804      0.001   -110.204      0.000      -0.082      -0.079\n",
       "location_home:pts_prev_30g_avg     0.0294      0.002     19.433      0.000       0.026       0.032\n",
       "diff_avg_30g_opp_pts_allowed       0.0470      0.001     33.795      0.000       0.044       0.050\n",
       "==============================================================================\n",
       "Omnibus:                    25773.902   Durbin-Watson:                   2.046\n",
       "Prob(Omnibus):                  0.000   Jarque-Bera (JB):            40019.176\n",
       "Skew:                           0.532   Prob(JB):                         0.00\n",
       "Kurtosis:                       4.126   Cond. No.                         27.3\n",
       "==============================================================================\n",
       "\n",
       "Warnings:\n",
       "[1] Standard Errors assume that the covariance matrix of the errors is correctly specified.\n",
       "\"\"\""
      ]
     },
     "execution_count": 161,
     "metadata": {},
     "output_type": "execute_result"
    }
   ],
   "source": [
    "(\n",
    "    ols(\n",
    "        formula=\"pts ~ pts_prev_30g_avg\"\n",
    "            \" + pts_prev_5g_avg_min_30g\"\n",
    "            \" + chng_active_team_pts_30g_avg\"\n",
    "            \" + location_home:pts_prev_30g_avg\"\n",
    "            \" + diff_avg_30g_opp_pts_allowed + 1\",\n",
    "        data=clean_data\n",
    "    )\n",
    "    .fit()\n",
    "    .summary()\n",
    ")"
   ]
  },
  {
   "cell_type": "markdown",
   "metadata": {},
   "source": [
    "## Diagnoistics"
   ]
  },
  {
   "cell_type": "code",
   "execution_count": 153,
   "metadata": {},
   "outputs": [
    {
     "data": {
      "text/html": [
       "<div>\n",
       "<style scoped>\n",
       "    .dataframe tbody tr th:only-of-type {\n",
       "        vertical-align: middle;\n",
       "    }\n",
       "\n",
       "    .dataframe tbody tr th {\n",
       "        vertical-align: top;\n",
       "    }\n",
       "\n",
       "    .dataframe thead th {\n",
       "        text-align: right;\n",
       "    }\n",
       "</style>\n",
       "<table border=\"1\" class=\"dataframe\">\n",
       "  <thead>\n",
       "    <tr style=\"text-align: right;\">\n",
       "      <th></th>\n",
       "      <th>pts_prev_30g_avg</th>\n",
       "      <th>pts_prev_5g_avg_min_30g</th>\n",
       "      <th>chng_active_team_pts_30g_avg</th>\n",
       "      <th>location_home</th>\n",
       "      <th>diff_avg_30g_opp_pts_allowed</th>\n",
       "    </tr>\n",
       "  </thead>\n",
       "  <tbody>\n",
       "    <tr>\n",
       "      <th>pts_prev_30g_avg</th>\n",
       "      <td>1.000000</td>\n",
       "      <td>-0.020472</td>\n",
       "      <td>0.091547</td>\n",
       "      <td>0.004186</td>\n",
       "      <td>-0.085403</td>\n",
       "    </tr>\n",
       "    <tr>\n",
       "      <th>pts_prev_5g_avg_min_30g</th>\n",
       "      <td>-0.020472</td>\n",
       "      <td>1.000000</td>\n",
       "      <td>-0.181205</td>\n",
       "      <td>-0.000714</td>\n",
       "      <td>-0.008963</td>\n",
       "    </tr>\n",
       "    <tr>\n",
       "      <th>chng_active_team_pts_30g_avg</th>\n",
       "      <td>0.091547</td>\n",
       "      <td>-0.181205</td>\n",
       "      <td>1.000000</td>\n",
       "      <td>0.020436</td>\n",
       "      <td>0.020137</td>\n",
       "    </tr>\n",
       "    <tr>\n",
       "      <th>location_home</th>\n",
       "      <td>0.004186</td>\n",
       "      <td>-0.000714</td>\n",
       "      <td>0.020436</td>\n",
       "      <td>1.000000</td>\n",
       "      <td>0.002905</td>\n",
       "    </tr>\n",
       "    <tr>\n",
       "      <th>diff_avg_30g_opp_pts_allowed</th>\n",
       "      <td>-0.085403</td>\n",
       "      <td>-0.008963</td>\n",
       "      <td>0.020137</td>\n",
       "      <td>0.002905</td>\n",
       "      <td>1.000000</td>\n",
       "    </tr>\n",
       "  </tbody>\n",
       "</table>\n",
       "</div>"
      ],
      "text/plain": [
       "                              pts_prev_30g_avg  pts_prev_5g_avg_min_30g  \\\n",
       "pts_prev_30g_avg                      1.000000                -0.020472   \n",
       "pts_prev_5g_avg_min_30g              -0.020472                 1.000000   \n",
       "chng_active_team_pts_30g_avg          0.091547                -0.181205   \n",
       "location_home                         0.004186                -0.000714   \n",
       "diff_avg_30g_opp_pts_allowed         -0.085403                -0.008963   \n",
       "\n",
       "                              chng_active_team_pts_30g_avg  location_home  \\\n",
       "pts_prev_30g_avg                                  0.091547       0.004186   \n",
       "pts_prev_5g_avg_min_30g                          -0.181205      -0.000714   \n",
       "chng_active_team_pts_30g_avg                      1.000000       0.020436   \n",
       "location_home                                     0.020436       1.000000   \n",
       "diff_avg_30g_opp_pts_allowed                      0.020137       0.002905   \n",
       "\n",
       "                              diff_avg_30g_opp_pts_allowed  \n",
       "pts_prev_30g_avg                                 -0.085403  \n",
       "pts_prev_5g_avg_min_30g                          -0.008963  \n",
       "chng_active_team_pts_30g_avg                      0.020137  \n",
       "location_home                                     0.002905  \n",
       "diff_avg_30g_opp_pts_allowed                      1.000000  "
      ]
     },
     "execution_count": 153,
     "metadata": {},
     "output_type": "execute_result"
    }
   ],
   "source": [
    "predictors = [\"pts_prev_30g_avg\", \"pts_prev_5g_avg_min_30g\", \"chng_active_team_pts_30g_avg\",\n",
    "              \"location_home\", \"diff_avg_30g_opp_pts_allowed\"]\n",
    "clean_data[predictors].corr()"
   ]
  },
  {
   "cell_type": "code",
   "execution_count": 155,
   "metadata": {},
   "outputs": [],
   "source": [
    "model = (\n",
    "    ols(\n",
    "        formula=\"pts ~ pts_prev_30g_avg\"\n",
    "            \" + pts_prev_5g_avg_min_30g\"\n",
    "            \" + chng_active_team_pts_30g_avg\"\n",
    "            \" + location_home:pts_prev_30g_avg\"\n",
    "            \" + diff_avg_30g_opp_pts_allowed\",\n",
    "        data=clean_data\n",
    "    )\n",
    "    .fit()\n",
    ")"
   ]
  },
  {
   "cell_type": "code",
   "execution_count": 156,
   "metadata": {},
   "outputs": [
    {
     "data": {
      "image/png": "[encoded data removed]",
      "text/plain": [
       "<Figure size 432x288 with 6 Axes>"
      ]
     },
     "metadata": {},
     "output_type": "display_data"
    }
   ],
   "source": [
    "sm.graphics.plot_partregress_grid(model);"
   ]
  },
  {
   "cell_type": "code",
   "execution_count": null,
   "metadata": {},
   "outputs": [],
   "source": []
  }
 ],
 "metadata": {
  "kernelspec": {
   "display_name": "Python [conda env:gym]",
   "language": "python",
   "name": "conda-env-gym-py"
  },
  "language_info": {
   "codemirror_mode": {
    "name": "ipython",
    "version": 3
   },
   "file_extension": ".py",
   "mimetype": "text/x-python",
   "name": "python",
   "nbconvert_exporter": "python",
   "pygments_lexer": "ipython3",
   "version": "3.6.8"
  }
 },
 "nbformat": 4,
 "nbformat_minor": 2
}
