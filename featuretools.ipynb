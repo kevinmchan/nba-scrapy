{
 "cells": [
  {
   "cell_type": "markdown",
   "metadata": {},
   "source": [
    "## Setup"
   ]
  },
  {
   "cell_type": "code",
   "execution_count": 2,
   "metadata": {},
   "outputs": [],
   "source": [
    "import pandas as pd\n",
    "import numpy as np\n",
    "from collections import defaultdict\n",
    "from itertools import combinations"
   ]
  },
  {
   "cell_type": "code",
   "execution_count": 104,
   "metadata": {},
   "outputs": [],
   "source": [
    "pd.options.display.max_colwidth = 999\n",
    "pd.options.display.max_rows = 99\n",
    "pd.options.display.max_columns = 99"
   ]
  },
  {
   "cell_type": "code",
   "execution_count": 44,
   "metadata": {},
   "outputs": [],
   "source": [
    "import featuretools as ft"
   ]
  },
  {
   "cell_type": "code",
   "execution_count": 119,
   "metadata": {},
   "outputs": [],
   "source": []
  },
  {
   "cell_type": "markdown",
   "metadata": {},
   "source": [
    "## Import and clean inputs"
   ]
  },
  {
   "cell_type": "markdown",
   "metadata": {},
   "source": [
    "Seasons dataset"
   ]
  },
  {
   "cell_type": "code",
   "execution_count": null,
   "metadata": {},
   "outputs": [],
   "source": [
    "seasons_df = pd.read_parquet('data/season.parquet')"
   ]
  },
  {
   "cell_type": "code",
   "execution_count": 120,
   "metadata": {},
   "outputs": [],
   "source": [
    "# convert season to integer\n",
    "seasons_df.season = seasons_df.season.str.split('-').str[0].astype(int)"
   ]
  },
  {
   "cell_type": "markdown",
   "metadata": {},
   "source": [
    "Games dataset"
   ]
  },
  {
   "cell_type": "code",
   "execution_count": 139,
   "metadata": {},
   "outputs": [],
   "source": [
    "team_games_df = pd.read_parquet('data/normalized_games.parquet')"
   ]
  },
  {
   "cell_type": "code",
   "execution_count": 140,
   "metadata": {},
   "outputs": [],
   "source": [
    "game_cols = ['boxscore_link', 'season_link', 'start', \n",
    "             'notes', 'overtime', 'attendance', \n",
    "             'date', 'playoffs']\n",
    "\n",
    "games_df = team_games_df[game_cols].drop_duplicates()"
   ]
  },
  {
   "cell_type": "code",
   "execution_count": 158,
   "metadata": {},
   "outputs": [],
   "source": [
    "# duplicates due to mismatch in playoffs assignment, resulting from some teams having shortened seasons\n",
    "duplicated_games = games_df.loc[games_df.boxscore_link.duplicated(), 'boxscore_link']\n",
    "games_df.loc[games_df.boxscore_link.isin(duplicated_games), 'playoffs'] = True\n",
    "games_df = games_df.drop_duplicates()"
   ]
  },
  {
   "cell_type": "code",
   "execution_count": 160,
   "metadata": {},
   "outputs": [],
   "source": [
    "team_games_df = team_games_df[\n",
    "    ['boxscore_link', 'team', 'team_link', 'pts', 'location']\n",
    "]\n",
    "team_games_df['team_games_index'] = team_games_df.eval('boxscore_link + team_link')"
   ]
  },
  {
   "cell_type": "markdown",
   "metadata": {},
   "source": [
    "Players dataset"
   ]
  },
  {
   "cell_type": "code",
   "execution_count": 161,
   "metadata": {},
   "outputs": [],
   "source": [
    "players_df = pd.read_parquet('data/player.parquet')"
   ]
  },
  {
   "cell_type": "code",
   "execution_count": 162,
   "metadata": {},
   "outputs": [],
   "source": [
    "def height_string_to_float(series):\n",
    "    return (\n",
    "        series\n",
    "         .str.split(\"-\", expand=True)\n",
    "         .apply(lambda x: x.astype(float))\n",
    "         .rename(columns = {0: \"feet\", 1: \"inches\"})\n",
    "         .eval('feet + inches/12')\n",
    "    )\n",
    "players_df.height = height_string_to_float(players_df.height)"
   ]
  },
  {
   "cell_type": "code",
   "execution_count": 163,
   "metadata": {},
   "outputs": [],
   "source": [
    "players_df.birth_date = pd.to_datetime(players_df.birth_date)"
   ]
  },
  {
   "cell_type": "code",
   "execution_count": 164,
   "metadata": {},
   "outputs": [],
   "source": [
    "for pos in ['F', 'C', 'G']:\n",
    "    players_df[f\"pos_{pos.lower()}\"] = players_df.pos.fillna(\"\").str.contains(pos).astype(int)"
   ]
  },
  {
   "cell_type": "markdown",
   "metadata": {},
   "source": [
    "Basic boxscores dataset"
   ]
  },
  {
   "cell_type": "code",
   "execution_count": 165,
   "metadata": {},
   "outputs": [],
   "source": [
    "basic_boxscores_df = pd.read_parquet('data/basic_boxscore.parquet')"
   ]
  },
  {
   "cell_type": "code",
   "execution_count": 166,
   "metadata": {},
   "outputs": [],
   "source": [
    "basic_boxscores_df = basic_boxscores_df.rename(columns={'game_url': 'boxscore_link'})"
   ]
  },
  {
   "cell_type": "code",
   "execution_count": 167,
   "metadata": {},
   "outputs": [],
   "source": [
    "basic_boxscores_df['boxscore_index'] = (\n",
    "    basic_boxscores_df['boxscore_link']\n",
    "    + basic_boxscores_df['player_link']\n",
    ")"
   ]
  },
  {
   "cell_type": "code",
   "execution_count": 168,
   "metadata": {},
   "outputs": [],
   "source": [
    "basic_boxscores_df = basic_boxscores_df[\n",
    "    ~basic_boxscores_df.boxscore_index.duplicated()\n",
    "].copy()"
   ]
  },
  {
   "cell_type": "markdown",
   "metadata": {},
   "source": [
    "Advanced boxscores dataset"
   ]
  },
  {
   "cell_type": "code",
   "execution_count": 169,
   "metadata": {},
   "outputs": [],
   "source": [
    "advanced_boxscores_df = pd.read_parquet('data/adv_boxscore.parquet')"
   ]
  },
  {
   "cell_type": "code",
   "execution_count": 170,
   "metadata": {},
   "outputs": [],
   "source": [
    "advanced_boxscores_df = advanced_boxscores_df.rename(columns={'game_url': 'boxscore_link'})"
   ]
  },
  {
   "cell_type": "code",
   "execution_count": 171,
   "metadata": {},
   "outputs": [],
   "source": [
    "advanced_boxscores_df['boxscore_index'] = (\n",
    "    advanced_boxscores_df['boxscore_link']\n",
    "    + advanced_boxscores_df['player_link']\n",
    ")"
   ]
  },
  {
   "cell_type": "code",
   "execution_count": 172,
   "metadata": {},
   "outputs": [],
   "source": [
    "advanced_boxscores_df = advanced_boxscores_df[\n",
    "    ~advanced_boxscores_df.boxscore_index.duplicated()\n",
    "].copy()"
   ]
  },
  {
   "cell_type": "markdown",
   "metadata": {},
   "source": [
    "## Create data model"
   ]
  },
  {
   "cell_type": "code",
   "execution_count": 173,
   "metadata": {},
   "outputs": [],
   "source": [
    "es = ft.EntitySet(id=\"scores\")"
   ]
  },
  {
   "cell_type": "code",
   "execution_count": 174,
   "metadata": {},
   "outputs": [],
   "source": [
    "es = es.entity_from_dataframe(\n",
    "    entity_id='seasons',\n",
    "    dataframe=seasons_df,\n",
    "    index='season_link'\n",
    ")"
   ]
  },
  {
   "cell_type": "code",
   "execution_count": 175,
   "metadata": {},
   "outputs": [],
   "source": [
    "es = es.entity_from_dataframe(\n",
    "    entity_id='games',\n",
    "    dataframe=games_df,\n",
    "    index='boxscore_link'\n",
    ")"
   ]
  },
  {
   "cell_type": "code",
   "execution_count": 193,
   "metadata": {},
   "outputs": [],
   "source": [
    "es = es.entity_from_dataframe(\n",
    "    entity_id='team_games',\n",
    "    dataframe=team_games_df,\n",
    "    index='team_games_index'\n",
    ")"
   ]
  },
  {
   "cell_type": "code",
   "execution_count": 177,
   "metadata": {},
   "outputs": [],
   "source": [
    "es = es.entity_from_dataframe(\n",
    "    entity_id='players',\n",
    "    dataframe=players_df,\n",
    "    index='player_link'\n",
    ")"
   ]
  },
  {
   "cell_type": "code",
   "execution_count": 178,
   "metadata": {},
   "outputs": [],
   "source": [
    "es = es.entity_from_dataframe(\n",
    "    entity_id='basic_boxscores',\n",
    "    dataframe=basic_boxscores_df,\n",
    "    index='boxscore_index'\n",
    ")"
   ]
  },
  {
   "cell_type": "code",
   "execution_count": 179,
   "metadata": {},
   "outputs": [],
   "source": [
    "es = es.entity_from_dataframe(\n",
    "    entity_id='adv_boxscores',\n",
    "    dataframe=advanced_boxscores_df,\n",
    "    index='boxscore_index'\n",
    ")"
   ]
  },
  {
   "cell_type": "code",
   "execution_count": 180,
   "metadata": {},
   "outputs": [],
   "source": [
    "es = es.add_relationship(\n",
    "    ft.Relationship(\n",
    "        es['seasons']['season_link'],\n",
    "        es['games']['season_link']\n",
    "    )\n",
    ")"
   ]
  },
  {
   "cell_type": "code",
   "execution_count": 181,
   "metadata": {},
   "outputs": [],
   "source": [
    "es = es.add_relationship(\n",
    "    ft.Relationship(\n",
    "        es['games']['boxscore_link'],\n",
    "        es['basic_boxscores']['boxscore_link']\n",
    "    )\n",
    ")"
   ]
  },
  {
   "cell_type": "code",
   "execution_count": 183,
   "metadata": {},
   "outputs": [],
   "source": [
    "es = es.add_relationship(\n",
    "    ft.Relationship(\n",
    "        es['games']['boxscore_link'],\n",
    "        es['adv_boxscores']['boxscore_link']\n",
    "    )\n",
    ")"
   ]
  },
  {
   "cell_type": "code",
   "execution_count": 186,
   "metadata": {},
   "outputs": [],
   "source": [
    "es = es.add_relationship(\n",
    "    ft.Relationship(\n",
    "        es['games']['boxscore_link'],\n",
    "        es['team_games']['boxscore_link']\n",
    "    )\n",
    ")"
   ]
  },
  {
   "cell_type": "code",
   "execution_count": 188,
   "metadata": {},
   "outputs": [],
   "source": [
    "es = es.add_relationship(\n",
    "    ft.Relationship(\n",
    "        es['players']['player_link'],\n",
    "        es['basic_boxscores']['player_link']\n",
    "    )\n",
    ")"
   ]
  },
  {
   "cell_type": "code",
   "execution_count": 190,
   "metadata": {},
   "outputs": [],
   "source": [
    "es = es.add_relationship(\n",
    "    ft.Relationship(\n",
    "        es['players']['player_link'],\n",
    "        es['adv_boxscores']['player_link']\n",
    "    )\n",
    ")"
   ]
  },
  {
   "cell_type": "code",
   "execution_count": 194,
   "metadata": {},
   "outputs": [
    {
     "data": {
      "text/plain": [
       "Entityset: scores\n",
       "  Entities:\n",
       "    seasons [Rows: 82, Columns: 3]\n",
       "    games [Rows: 67094, Columns: 8]\n",
       "    team_games [Rows: 134188, Columns: 6]\n",
       "    players [Rows: 4580, Columns: 12]\n",
       "    basic_boxscores [Rows: 1369176, Columns: 29]\n",
       "    adv_boxscores [Rows: 893874, Columns: 24]\n",
       "  Relationships:\n",
       "    games.season_link -> seasons.season_link\n",
       "    basic_boxscores.boxscore_link -> games.boxscore_link\n",
       "    adv_boxscores.boxscore_link -> games.boxscore_link\n",
       "    team_games.boxscore_link -> games.boxscore_link\n",
       "    basic_boxscores.player_link -> players.player_link\n",
       "    adv_boxscores.player_link -> players.player_link"
      ]
     },
     "execution_count": 194,
     "metadata": {},
     "output_type": "execute_result"
    }
   ],
   "source": [
    "es"
   ]
  }
 ],
 "metadata": {
  "kernelspec": {
   "display_name": "Python [conda env:nba-analysis]",
   "language": "python",
   "name": "conda-env-nba-analysis-py"
  },
  "language_info": {
   "codemirror_mode": {
    "name": "ipython",
    "version": 3
   },
   "file_extension": ".py",
   "mimetype": "text/x-python",
   "name": "python",
   "nbconvert_exporter": "python",
   "pygments_lexer": "ipython3",
   "version": "3.6.6"
  }
 },
 "nbformat": 4,
 "nbformat_minor": 2
}
