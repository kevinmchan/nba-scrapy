{
 "cells": [
  {
   "cell_type": "markdown",
   "metadata": {},
   "source": [
    "# Update nba datasets"
   ]
  },
  {
   "cell_type": "markdown",
   "metadata": {},
   "source": [
    "## Setup and imports"
   ]
  },
  {
   "cell_type": "code",
   "execution_count": null,
   "metadata": {},
   "outputs": [],
   "source": [
    "import os\n",
    "import jsonlines\n",
    "import pandas as pd\n",
    "import sqlite3"
   ]
  },
  {
   "cell_type": "code",
   "execution_count": null,
   "metadata": {},
   "outputs": [],
   "source": [
    "pd.options.display.max_columns = 99\n",
    "pd.options.display.max_rows = 99"
   ]
  },
  {
   "cell_type": "markdown",
   "metadata": {},
   "source": [
    "## Read datasets from jsonlines files"
   ]
  },
  {
   "cell_type": "code",
   "execution_count": null,
   "metadata": {},
   "outputs": [],
   "source": [
    "most_recent = max(os.listdir(\"../data\"))"
   ]
  },
  {
   "cell_type": "code",
   "execution_count": null,
   "metadata": {},
   "outputs": [],
   "source": [
    "seasons_df = pd.read_json(f\"../data/{most_recent}/season.jl\", lines=True)\n",
    "games_df = pd.read_json(f\"../data/{most_recent}/game.jl\", lines=True)\n",
    "players_df = pd.read_json(f\"../data/{most_recent}/player.jl\", lines=True)"
   ]
  },
  {
   "cell_type": "code",
   "execution_count": null,
   "metadata": {},
   "outputs": [],
   "source": [
    "boxscores_file = f\"../data/{most_recent}/boxscore.jl\"\n",
    "with jsonlines.open(boxscores_file) as reader:\n",
    "    basic_boxscores_df = pd.DataFrame(\n",
    "        list(filter(lambda x: x.get('boxscore')=='basic', iter(reader)))\n",
    "    )\n",
    "\n",
    "with jsonlines.open(boxscores_file) as reader:\n",
    "    advanced_boxscores_df = pd.DataFrame(\n",
    "        list(filter(lambda x: x.get('boxscore')=='advanced', iter(reader)))\n",
    "    )"
   ]
  },
  {
   "cell_type": "markdown",
   "metadata": {},
   "source": [
    "## Clean data"
   ]
  },
  {
   "cell_type": "markdown",
   "metadata": {},
   "source": [
    "Type conversions"
   ]
  },
  {
   "cell_type": "code",
   "execution_count": null,
   "metadata": {},
   "outputs": [],
   "source": [
    "def convert_dtypes(data):\n",
    "    for col in data:\n",
    "        try:\n",
    "            data[col] = data[col].astype(float)\n",
    "        except ValueError:\n",
    "            pass\n",
    "        except TypeError:\n",
    "            pass\n",
    "    return data"
   ]
  },
  {
   "cell_type": "code",
   "execution_count": null,
   "metadata": {},
   "outputs": [],
   "source": [
    "basic_boxscores_df = convert_dtypes(basic_boxscores_df)\n",
    "advanced_boxscores_df = convert_dtypes(advanced_boxscores_df)\n",
    "games_df = convert_dtypes(games_df)\n",
    "seasons_df = convert_dtypes(seasons_df)\n",
    "players_df = convert_dtypes(players_df)"
   ]
  },
  {
   "cell_type": "markdown",
   "metadata": {},
   "source": [
    "Fix links"
   ]
  },
  {
   "cell_type": "code",
   "execution_count": null,
   "metadata": {},
   "outputs": [],
   "source": [
    "def fix_link(data, column):\n",
    "    root = \"https://www.basketball-reference.com\"\n",
    "    data[column] = root + data[column].str.replace(root, \"\")\n",
    "    return data"
   ]
  },
  {
   "cell_type": "code",
   "execution_count": null,
   "metadata": {},
   "outputs": [],
   "source": [
    "basic_boxscores_df = basic_boxscores_df.pipe(fix_link, \"player_link\")\n",
    "advanced_boxscores_df = advanced_boxscores_df.pipe(fix_link, \"player_link\")\n",
    "seasons_df = seasons_df.pipe(fix_link, \"season_link\")\n",
    "players_df = players_df.pipe(fix_link, \"player_link\")\n",
    "games_df = (\n",
    "    games_df\n",
    "        .pipe(fix_link, \"boxscore_link\")\n",
    "        .pipe(fix_link, \"home_link\")\n",
    "        .pipe(fix_link, \"visitor_link\")\n",
    ")\n",
    "basic_boxscores_df = basic_boxscores_df.rename(columns={\"game_url\": \"boxscore_link\"})\n",
    "advanced_boxscores_df = advanced_boxscores_df.rename(columns={\"game_url\": \"boxscore_link\"})"
   ]
  },
  {
   "cell_type": "markdown",
   "metadata": {},
   "source": [
    "Update mp to fraction"
   ]
  },
  {
   "cell_type": "code",
   "execution_count": null,
   "metadata": {},
   "outputs": [],
   "source": [
    "def minutes_string_to_float(series):\n",
    "    return (\n",
    "        series\n",
    "         .str.split(\":\", expand=True)\n",
    "         .apply(lambda x: x.astype(float))\n",
    "         .rename(columns = {0: \"mins\", 1: \"secs\"})\n",
    "         .eval('mins + secs/60')\n",
    "    )"
   ]
  },
  {
   "cell_type": "code",
   "execution_count": null,
   "metadata": {},
   "outputs": [],
   "source": [
    "basic_boxscores_df['minutes'] = minutes_string_to_float(basic_boxscores_df.mp)\n",
    "advanced_boxscores_df['minutes'] = minutes_string_to_float(advanced_boxscores_df.mp)"
   ]
  },
  {
   "cell_type": "markdown",
   "metadata": {},
   "source": [
    "Stack home and away games data"
   ]
  },
  {
   "cell_type": "code",
   "execution_count": null,
   "metadata": {},
   "outputs": [],
   "source": [
    "home_games = games_df[\n",
    "    ['attendance', 'boxscore_link', 'date', 'home', 'home_link', 'home_pts',\n",
    "     'visitor', 'visitor_link', 'visitor_pts',\n",
    "     'notes', 'overtime', 'season_link', 'start'\n",
    "    ]].copy()\n",
    "home_games['location'] = 'home'\n",
    "home_games = home_games.rename(columns={'home': 'team', 'home_link': 'team_link', 'home_pts': 'pts', 'visitor': 'opp', 'visitor_link': 'opp_link', 'visitor_pts': 'opp_pts'})\n",
    "\n",
    "visitor_games = games_df[\n",
    "    ['attendance', 'boxscore_link', 'date', 'visitor', 'visitor_link',\n",
    "     'visitor_pts', 'home', 'home_link', 'home_pts', \n",
    "     'notes', 'overtime', 'season_link', 'start'\n",
    "    ]].copy()\n",
    "visitor_games['location'] = 'away'\n",
    "visitor_games = visitor_games.rename(columns={'visitor': 'team', 'visitor_link': 'team_link', 'visitor_pts': 'pts', 'home': 'opp', 'home_link': 'opp_link', 'home_pts': 'opp_pts'})"
   ]
  },
  {
   "cell_type": "code",
   "execution_count": null,
   "metadata": {},
   "outputs": [],
   "source": [
    "normalized_games_df = pd.concat([home_games, visitor_games], ignore_index=True)"
   ]
  },
  {
   "cell_type": "markdown",
   "metadata": {},
   "source": [
    "Identify playoff games"
   ]
  },
  {
   "cell_type": "code",
   "execution_count": null,
   "metadata": {},
   "outputs": [],
   "source": [
    "def game_number(data):\n",
    "    return (\n",
    "        data\n",
    "        .groupby(['season_link', 'team'])\n",
    "        ['date'].rank()\n",
    "    )\n",
    "\n",
    "def team_game_count(data):\n",
    "    return (\n",
    "        data\n",
    "        .eval(\"counter = 1\")\n",
    "        .groupby(['season_link', 'team'])\n",
    "        ['counter'].transform('count')\n",
    "    )\n",
    "\n",
    "def min_team_games(data):\n",
    "    return (\n",
    "        data\n",
    "        .groupby(['season_link'])\n",
    "        ['team_game_count'].transform('min')\n",
    "    )"
   ]
  },
  {
   "cell_type": "code",
   "execution_count": null,
   "metadata": {},
   "outputs": [],
   "source": [
    "normalized_games_df['playoffs'] = (\n",
    "    normalized_games_df\n",
    "     .assign(game_number=game_number)\n",
    "     .assign(team_game_count=team_game_count)\n",
    "     .assign(min_team_games=min_team_games)\n",
    "     .eval('game_number > min_team_games')\n",
    ")"
   ]
  },
  {
   "cell_type": "markdown",
   "metadata": {},
   "source": [
    "## Data quality checks"
   ]
  },
  {
   "cell_type": "markdown",
   "metadata": {},
   "source": [
    "Confirm that games in basic boxscores matches games in game summaries"
   ]
  },
  {
   "cell_type": "code",
   "execution_count": null,
   "metadata": {},
   "outputs": [],
   "source": [
    "games_df.groupby([\"season_link\"]).apply(lambda x: len(x.boxscore_link.unique()) == len(x.boxscore_link))"
   ]
  },
  {
   "cell_type": "code",
   "execution_count": null,
   "metadata": {},
   "outputs": [],
   "source": [
    "games_df[~(games_df.boxscore_link).isin(basic_boxscores_df.boxscore_link.unique())]"
   ]
  },
  {
   "cell_type": "markdown",
   "metadata": {},
   "source": [
    "Confirm that the number of points in boxscore match number of points in games"
   ]
  },
  {
   "cell_type": "code",
   "execution_count": null,
   "metadata": {},
   "outputs": [],
   "source": [
    "total_points = (\n",
    "    basic_boxscores_df\n",
    "    .groupby('boxscore_link')['pts']\n",
    "    .sum()\n",
    ")"
   ]
  },
  {
   "cell_type": "code",
   "execution_count": null,
   "metadata": {},
   "outputs": [],
   "source": [
    "total_points_game = (\n",
    "    games_df\n",
    "    .rename(columns={'boxscore_link': 'boxscore_link'})\n",
    "    .assign(total_pts = lambda x: x.home_pts + x.visitor_pts)\n",
    "    .merge(total_points.reset_index(),\n",
    "        how='outer',\n",
    "        on='boxscore_link'\n",
    "    )\n",
    ")"
   ]
  },
  {
   "cell_type": "code",
   "execution_count": null,
   "metadata": {},
   "outputs": [],
   "source": [
    "(\n",
    "    total_points_game\n",
    "    .assign(mismatch = lambda x: x.total_pts - x.pts)\n",
    "    .assign(abs_mismatch = lambda x: abs(x.mismatch))\n",
    "    .groupby('season_link')['mismatch', 'abs_mismatch']\n",
    "    .aggregate('mean')\n",
    "    .query('abs_mismatch != 0')\n",
    ")"
   ]
  },
  {
   "cell_type": "markdown",
   "metadata": {},
   "source": [
    "Check total number of games in a season"
   ]
  },
  {
   "cell_type": "code",
   "execution_count": null,
   "metadata": {},
   "outputs": [],
   "source": [
    "(\n",
    "    normalized_games_df\n",
    "    .groupby(['season_link', 'team'])['boxscore_link']\n",
    "    .count()\n",
    "    .groupby(['season_link'])\n",
    "    .aggregate([\"max\", \"min\"])\n",
    "    .eval(\"diff = max - min\")\n",
    ")"
   ]
  },
  {
   "cell_type": "markdown",
   "metadata": {},
   "source": [
    "## Load current data"
   ]
  },
  {
   "cell_type": "code",
   "execution_count": null,
   "metadata": {},
   "outputs": [],
   "source": [
    "conn = sqlite3.connect('../db/nbafantasy.db')"
   ]
  },
  {
   "cell_type": "code",
   "execution_count": null,
   "metadata": {},
   "outputs": [],
   "source": [
    "seasons_df.to_sql(\"seasons\", con=conn, if_exists=\"replace\", index=False)\n",
    "players_df.to_sql(\"players\", con=conn, if_exists=\"replace\", index=False)"
   ]
  },
  {
   "cell_type": "code",
   "execution_count": null,
   "metadata": {},
   "outputs": [],
   "source": [
    "normalized_games_df.to_sql(\"games_update\", con=conn, if_exists=\"replace\", index=False)\n",
    "basic_boxscores_df.to_sql(\"basic_boxscore_update\", con=conn, if_exists=\"replace\", index=False)\n",
    "advanced_boxscores_df.to_sql(\"adv_boxscore_update\", con=conn, if_exists=\"replace\", index=False)"
   ]
  },
  {
   "cell_type": "code",
   "execution_count": null,
   "metadata": {},
   "outputs": [],
   "source": [
    "cur = conn.cursor()\n",
    "cur.execute(\n",
    "    \"\"\"\n",
    "    delete from games\n",
    "    where (date, team_link, opp_link, season_link) in (select date, team_link, opp_link, season_link from games_update)\n",
    "    \"\"\"\n",
    ")\n",
    "cur.execute(\n",
    "    \"\"\"\n",
    "    insert into games\n",
    "    select *\n",
    "    from games_update\n",
    "    \"\"\"\n",
    ")"
   ]
  },
  {
   "cell_type": "code",
   "execution_count": null,
   "metadata": {},
   "outputs": [],
   "source": [
    "cur = conn.cursor()\n",
    "cur.execute(\n",
    "    \"\"\"\n",
    "    delete from basic_boxscore\n",
    "    where (boxscore_link, player_link) in (select boxscore_link, player_link from basic_boxscore_update)\n",
    "    \"\"\"\n",
    ")\n",
    "cur.execute(\n",
    "    \"\"\"\n",
    "    insert into basic_boxscore\n",
    "    select *\n",
    "    from basic_boxscore_update\n",
    "    \"\"\"\n",
    ")"
   ]
  },
  {
   "cell_type": "code",
   "execution_count": null,
   "metadata": {},
   "outputs": [],
   "source": [
    "cur = conn.cursor()\n",
    "cur.execute(\n",
    "    \"\"\"\n",
    "    delete from adv_boxscore\n",
    "    where (boxscore_link, player_link) in (select boxscore_link, player_link from adv_boxscore_update)\n",
    "    \"\"\"\n",
    ")\n",
    "cur.execute(\n",
    "    \"\"\"\n",
    "    insert into adv_boxscore\n",
    "    select *\n",
    "    from adv_boxscore_update\n",
    "    \"\"\"\n",
    ")"
   ]
  }
 ],
 "metadata": {
  "kernelspec": {
   "display_name": "Python [conda env:nbascrapy]",
   "language": "python",
   "name": "conda-env-nbascrapy-py"
  },
  "language_info": {
   "codemirror_mode": {
    "name": "ipython",
    "version": 3
   },
   "file_extension": ".py",
   "mimetype": "text/x-python",
   "name": "python",
   "nbconvert_exporter": "python",
   "pygments_lexer": "ipython3",
   "version": "3.8.5"
  }
 },
 "nbformat": 4,
 "nbformat_minor": 4
}
